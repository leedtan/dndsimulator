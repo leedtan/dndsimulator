{
 "cells": [
  {
   "cell_type": "code",
   "execution_count": 1,
   "metadata": {},
   "outputs": [],
   "source": [
    "import random"
   ]
  },
  {
   "cell_type": "code",
   "execution_count": 2,
   "metadata": {},
   "outputs": [],
   "source": [
    "class Dice:\n",
    "    ## create random number generator that mimics dice\n",
    "    def __init__(self, num_sides):\n",
    "        self.num_sides = num_sides\n",
    "    def roll(self, num_to_roll=1):\n",
    "    ## dice object sums the result of number of dice rolled\n",
    "        if num_to_roll<1:\n",
    "            return('No dice were rolled')\n",
    "        elif num_to_roll==1:\n",
    "            return random.randrange(1, self.num_sides + 1, 1)\n",
    "        else:\n",
    "            return sum([random.randrange(1, self.num_sides +1, 1) for i in range(num_to_roll)])"
   ]
  },
  {
   "cell_type": "code",
   "execution_count": 4,
   "metadata": {},
   "outputs": [
    {
     "data": {
      "text/plain": [
       "11"
      ]
     },
     "execution_count": 4,
     "metadata": {},
     "output_type": "execute_result"
    }
   ],
   "source": [
    "d6.roll(3)"
   ]
  },
  {
   "cell_type": "code",
   "execution_count": null,
   "metadata": {},
   "outputs": [],
   "source": [
    "def is_int(string):\n",
    "    try:\n",
    "        if type(int(string)) is int:\n",
    "            return True\n",
    "    except:\n",
    "        return False"
   ]
  },
  {
   "cell_type": "code",
   "execution_count": null,
   "metadata": {},
   "outputs": [],
   "source": [
    "def test_dice_snippets(string):\n",
    "    d = string.find('d')\n",
    "    if d < 0:\n",
    "        return False\n",
    "    elif d == 0:\n",
    "        if is_int(string[d+1:]):\n",
    "            return int(string[d+1:])\n",
    "        else:\n",
    "        return False\n",
    "    else:\n",
    "        if is_int(string[d+1:]):\n",
    "            sides = int(string[d+1:])\n",
    "             if is_int(string[:d]):\n",
    "                    num_to_roll = int(string[:d])\n",
    "                    return [sides, num_to_roll]\n",
    "        else:\n",
    "            return False"
   ]
  },
  {
   "cell_type": "code",
   "execution_count": 5,
   "metadata": {},
   "outputs": [],
   "source": [
    "def roll_from_string3(string):\n",
    "    value = test_dice_snippets(string)\n",
    "    if type(value) == list:\n",
    "        dice = Dice(value[0])\n",
    "        num_to_roll = value[1]\n",
    "    return dice.roll(num_to_roll)\n",
    "    elif type(value) == int:\n",
    "        dice = Dice(value)\n",
    "        return dice.roll()\n",
    "    else:\n",
    "        return False"
   ]
  }
 ],
 "metadata": {
  "kernelspec": {
   "display_name": "Python 3",
   "language": "python",
   "name": "python3"
  },
  "language_info": {
   "codemirror_mode": {
    "name": "ipython",
    "version": 3
   },
   "file_extension": ".py",
   "mimetype": "text/x-python",
   "name": "python",
   "nbconvert_exporter": "python",
   "pygments_lexer": "ipython3",
   "version": "3.7.4"
  }
 },
 "nbformat": 4,
 "nbformat_minor": 4
}
