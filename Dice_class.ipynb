{
 "cells": [
  {
   "cell_type": "code",
   "execution_count": null,
   "metadata": {},
   "outputs": [],
   "source": [
    "import random"
   ]
  },
  {
   "cell_type": "code",
   "execution_count": null,
   "metadata": {},
   "outputs": [],
   "source": [
    "class Dice:\n",
    "    ## create random number generator that mimics dice\n",
    "    def __init__(self, num_sides):\n",
    "        self.num_sides = num_sides\n",
    "    def roll(self, num_to_roll=1):\n",
    "    ## dice object sums the result of number of dice rolled\n",
    "        if num_to_roll<1:\n",
    "            return('No dice were rolled')\n",
    "        elif num_to_roll==1:\n",
    "            return random.randrange(1, self.num_sides + 1, 1)\n",
    "        else:\n",
    "            return sum([random.randrange(1, self.num_sides +1, 1) for i in range(num_to_roll)])"
   ]
  },
  {
   "cell_type": "code",
   "execution_count": null,
   "metadata": {},
   "outputs": [],
   "source": [
    "d4 = Dice(4)\n",
    "d6 = Dice(6)\n",
    "d8 = Dice(8)\n",
    "d12 = Dice(12)\n",
    "d20 = Dice(20)\n",
    "d100 = Dice(100)"
   ]
  },
  {
   "cell_type": "code",
   "execution_count": null,
   "metadata": {},
   "outputs": [],
   "source": [
    "d6.roll(3)"
   ]
  },
  {
   "cell_type": "code",
   "execution_count": null,
   "metadata": {},
   "outputs": [],
   "source": []
  }
 ],
 "metadata": {
  "kernelspec": {
   "display_name": "Python 3",
   "language": "python",
   "name": "python3"
  },
  "language_info": {
   "codemirror_mode": {
    "name": "ipython",
    "version": 3
   },
   "file_extension": ".py",
   "mimetype": "text/x-python",
   "name": "python",
   "nbconvert_exporter": "python",
   "pygments_lexer": "ipython3",
   "version": "3.7.7"
  }
 },
 "nbformat": 4,
 "nbformat_minor": 4
}
