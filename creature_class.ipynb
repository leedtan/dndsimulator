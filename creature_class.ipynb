{
 "cells": [
  {
   "cell_type": "markdown",
   "metadata": {},
   "source": [
    "# Outline of thought process\n",
    "- starting out with the creature class as the base class. The creature class will be used to create monsters/creatures that<br>\n",
    "have not become npcs\n",
    "\n",
    "- the pc_class class will be used to give player characters access to class mechanics\n",
    "- the pc class will inherit from the creature class and the pc_class class to create a pc\n",
    "- the npc class will inherit from the creature class and set the is_npc flag of an object to True so that a monster can be <br>\n",
    "changed to npc status and stored to come back as a recurring character\n",
    "- the item class will be used to create all items(including interactable objects our pcs might run into or use to change the <br> course of a battle. Think setting a fire to obscure the battle field or wedging a door shut\n"
   ]
  },
  {
   "cell_type": "code",
   "execution_count": null,
   "metadata": {},
   "outputs": [],
   "source": [
    "### start of a creature class\n",
    "\n",
    "\n",
    "name = {'name':'aarakocra', 'abilities':{},'hp':13, 'alt_hp':[8, 3], 'ac': 12, \n",
    "        'actions':['attack', 'cast', 'dash', 'disengage', 'dodge', 'help', 'hide','ready', 'search', 'use an object', 'improvise'],\n",
    "        'bonus_actions': {}, 'action_count': 0, 'b_action_count': 0, 'reaction_count': 0, 'feats':{}, 'traits':{}, 'initiative': 2, \n",
    "        'inventory':{}, 'vision': None, 'movement':{'walking': 20, 'flight': 50, 'swimming': None,'climbing': None}, \n",
    "        'main_hand': None, 'off_hand': None, 'armor': None,'disposition':'indifferent'}\n",
    "class Creature:\n",
    "    def __init__(self):\n",
    "        pass\n",
    "    \n",
    "    def create_creature(self, dictionary):\n",
    "        setattr(self, 'species', dictionary['name'])\n",
    "        setattr(self, 'abilities', dictionary['abilities'])\n",
    "        setattr(self, 'hp', dictionary['hp'])\n",
    "        setattr(self, 'alt_hp', dictionary['alt_hp'])\n",
    "        setattr(self, 'ac', dictionary['ac'])\n",
    "        setattr(self, 'actions', dictionary['actions'])\n",
    "        setattr(self, 'bonus_actions', dictionary['bonus_actions'])\n",
    "        setattr(self, 'feats', dictionary['feats'])\n",
    "        setattr(self, 'traits', dictionary['traits'])\n",
    "        setattr(self, 'initiative_bonus', dictionary['initiative'])\n",
    "        setattr(self, 'initiative', None)\n",
    "        setattr(self, 'inventory', dictionary['inventory'])\n",
    "        setattr(self, 'vision', dictionary['vision'])\n",
    "        setattr(self, 'movement', dictionary['movement'])\n",
    "        setattr(self, 'main_hand', dictionary['main_hand'])\n",
    "        setattr(self, 'off_hand', dictionary['off_hand'])\n",
    "        setattr(self, 'armor', dictionary['armor'])\n",
    "        setattr(self, 'disposition', dictionary['disposition'])\n",
    "\n",
    "    def initiative(self):\n",
    "        setattr(self, d20() + self.initiative_bonus)\n",
    "    #def item_equip(self, item):\n",
    "    #def add_inventory:\n"
   ]
  },
  {
   "cell_type": "code",
   "execution_count": null,
   "metadata": {},
   "outputs": [],
   "source": [
    "# keeping pc_class and pc as different classes to account for multi-classing\n",
    "\n",
    "class PcClass:\n",
    "    pass\n",
    "    "
   ]
  },
  {
   "cell_type": "code",
   "execution_count": null,
   "metadata": {},
   "outputs": [],
   "source": [
    "class Pc(Creature, PcClass):\n",
    "    def __init__(self):\n",
    "        pass\n",
    "    def create_pc(self):\n",
    "        setattr(self, 'pc', True)\n",
    "    "
   ]
  },
  {
   "cell_type": "code",
   "execution_count": null,
   "metadata": {},
   "outputs": [],
   "source": [
    "class Npc(Creature):\n",
    "    def __init__(self):\n",
    "        pass\n",
    "    def create_npc(self):\n",
    "        setattr(self, 'npc', True)"
   ]
  },
  {
   "cell_type": "code",
   "execution_count": null,
   "metadata": {},
   "outputs": [],
   "source": [
    "class item:\n",
    "    pass"
   ]
  },
  {
   "cell_type": "code",
   "execution_count": null,
   "metadata": {},
   "outputs": [],
   "source": []
  }
 ],
 "metadata": {
  "kernelspec": {
   "display_name": "Python 3",
   "language": "python",
   "name": "python3"
  },
  "language_info": {
   "codemirror_mode": {
    "name": "ipython",
    "version": 3
   },
   "file_extension": ".py",
   "mimetype": "text/x-python",
   "name": "python",
   "nbconvert_exporter": "python",
   "pygments_lexer": "ipython3",
   "version": "3.7.7"
  }
 },
 "nbformat": 4,
 "nbformat_minor": 4
}
