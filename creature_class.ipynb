{
 "cells": [
  {
   "cell_type": "markdown",
   "metadata": {},
   "source": [
    "# Outline of thought process\n",
    "- starting out with the creature class as the base class. The creature class will be used to create monsters/creatures that<br>\n",
    "have not become npcs\n",
    "\n",
    "- the pc_class class will be used to give player characters access to class mechanics\n",
    "- the pc class will inherit from the creature class and the pc_class class to create a pc\n",
    "- the npc class will inherit from the creature class and set the is_npc flag of an object to True so that a monster can be <br>\n",
    "changed to npc status and stored to come back as a recurring character\n",
    "- the item class will be used to create all items(including interactable objects our pcs might run into or use to change the <br> course of a battle. Think setting a fire to obscure the battle field or wedging a door shut\n"
   ]
  },
  {
   "cell_type": "code",
   "execution_count": 1,
   "metadata": {},
   "outputs": [],
   "source": [
    "from dice import Dice\n",
    "from dice import dice_avg\n",
    "from dice import DiceBag\n",
    "from skills import skills\n",
    "import pc_classes\n",
    "import creatures\n",
    "import races\n",
    "import weapons\n",
    "import copy\n",
    "from armor import light_armor"
   ]
  },
  {
   "cell_type": "code",
   "execution_count": 2,
   "metadata": {},
   "outputs": [],
   "source": [
    "### start of a creature class\n",
    "\n",
    "class Creature():\n",
    "    def __init__(self, entity_type, creature):\n",
    "        creature_attrs = creatures.creature_keys\n",
    "        self.entity_type = entity_type\n",
    "        if entity_type == 'pc':\n",
    "            self.disposition = 'ally'\n",
    "            self.hp_max = 0\n",
    "        for key in creature.keys():\n",
    "            setattr(self, key, creature[key])\n",
    "        for attr in creature_attrs:\n",
    "            if hasattr(self, attr)==True:\n",
    "                pass\n",
    "            else:\n",
    "                setattr(self, attr, False)\n",
    "   # def equip_armor(self, armor):\n",
    "   #     for prof in self.proficiencies:\n",
    "            \n",
    "        \n",
    "            \n",
    "\n",
    "    #def attack(weapon):\n",
    "    #def add_inventory:\n",
    "    #def cast(spell):\n",
    "        #if spell.r_attack == True:\n",
    "            #attack(spell)\n",
    "        #elif spell.r_save == True:\n",
    "        #else:\n",
    "            #do a thing\n",
    "    #def attack(weapon):\n",
    "        #if weapon.a_type == melee:\n",
    "            #do some things\n",
    "        #elif weapon.a_type == ranged:\n",
    "            #do some things\n",
    "    #def dash(movement):\n",
    "    #def disengage():\n",
    "    #def dodge(self.advantage_toggle):\n",
    "    #def help(target):\n",
    "    #def hide(stealth_check):\n",
    "    #def ready(trigger, action):\n",
    "    #def search(perception_check):\n",
    "    #def use_an_object():\n",
    "    #def imporovise(skill_check):\n",
    "\n",
    "\n",
    "        \n"
   ]
  },
  {
   "cell_type": "code",
   "execution_count": 3,
   "metadata": {},
   "outputs": [],
   "source": [
    "class Pc(Creature):\n",
    "    def __init__(self):\n",
    "        pass\n",
    "    def create_pc(self, creature):\n",
    "        setattr(creature, 'pc', True)\n",
    "        setattr(creature, 'pc_lvl', 1)\n",
    "        setattr(creature, 'proficiency_bonus', pc_classes.prof_bonus[creature.pc_lvl])\n",
    "        creature.skills = copy.deepcopy(skills)\n",
    "        if creature.armor == False and creature.ac == False:\n",
    "            dex_mod = creatures.ability_mod_tbl[creature.abilities['dex']]\n",
    "            wis_mod = creatures.ability_mod_tbl[creature.abilities['wis']]\n",
    "            con_mod = creatures.ability_mod_tbl[creature.abilities['con']]\n",
    "            barb_ua = 10 + con_mod + dex_mod\n",
    "            monk_ua = 10 + dex_mod + wis_mod\n",
    "            if 'barbarian' in creature.pc_classes.keys() & 'monk' in creature.pc_classes.keys():\n",
    "                unarmored_defense = []\n",
    "                unarmored_defense.append(barb_ua)\n",
    "                unarmored_defense.append(monk_ua)\n",
    "                creature.ac = max(unarmored_defense)\n",
    "            elif 'barbarian' in creature.pc_classes.keys():\n",
    "                creature.ac = barb_ua\n",
    "            elif 'monk' in creature.pc_classes.keys():\n",
    "                creature.ac = monk_ua\n",
    "            else:\n",
    "                creature.ac = 10 + creatures.ability_mod_tbl[creature.abilities['dex']]\n",
    "        "
   ]
  },
  {
   "cell_type": "code",
   "execution_count": 4,
   "metadata": {},
   "outputs": [],
   "source": [
    "# keeping pc_class and pc as different classes to account for multi-classing\n",
    "\n",
    "class PcClass:\n",
    "    def __init__(self):\n",
    "        pass\n",
    "    \n",
    "    def hill_dwarf_hp_bonus(self, creature):\n",
    "        creature.hp_max += 1\n",
    "        \n",
    "    def add_first_class(self, creature, pc_class, gen_method):\n",
    "        p_class = pc_class['pc_class']\n",
    "        setattr(creature, 'pc_classes', {p_class:1})\n",
    "        setattr(creature, 'abilities', pc_class['ability_by_method'][gen_method])\n",
    "        \n",
    "        ### adds first class attrs to creature\n",
    "        for key in pc_class.keys():\n",
    "            if key=='pc_class':\n",
    "                pass\n",
    "            else:\n",
    "                setattr(creature, key, pc_class[key])\n",
    "                \n",
    "        ### adds racial bonuses to ability scores \n",
    "        for key in creature.ability_score_increase.keys():\n",
    "            creature.abilities[key] += creature.ability_score_increase[key]\n",
    "        Pc.create_pc(self, creature)\n",
    "        \n",
    "        ### sets hp_max\n",
    "        con_bonus = creatures.ability_mod_tbl[creature.abilities['con']]\n",
    "        hp_max = int(pc_class['hit_die'][1:]) + con_bonus\n",
    "        creature.hp_max = hp_max\n",
    "        if creature.subrace == 'hill':\n",
    "            self.hill_dwarf_hp_bonus(creature)\n",
    "            \n",
    "    def add_class_lvl(self, creature, p_class_name):\n",
    "        ### update hp_max\n",
    "        class_hp_add = dice_avg[creature.hit_die]\n",
    "        con_bonus = creatures.ability_mod_tbl[creature.abilities['con']]\n",
    "        creature.hp_max += class_hp_add + con_bonus\n",
    "        if creature.subrace == 'hill':\n",
    "            self.hill_dwarf_hp_bonus(creature)\n",
    "        \n",
    "        creature.pc_classes[p_class_name] += 1\n",
    "        creature.pc_lvl += 1\n",
    "        creature.proficiency_bonus = pc_classes.prof_bonus[creature.pc_lvl]\n"
   ]
  },
  {
   "cell_type": "code",
   "execution_count": 5,
   "metadata": {},
   "outputs": [],
   "source": [
    "class Npc(Creature):\n",
    "    def __init__(self):\n",
    "        pass\n",
    "    def is_npc(self):\n",
    "        setattr(self, 'npc', True)\n",
    "        setattr(creature, 'max_hp', 0)"
   ]
  },
  {
   "cell_type": "code",
   "execution_count": 6,
   "metadata": {},
   "outputs": [],
   "source": [
    "class item:\n",
    "    def __init__(self):\n",
    "        pass\n",
    "    "
   ]
  },
  {
   "cell_type": "code",
   "execution_count": 7,
   "metadata": {},
   "outputs": [],
   "source": [
    "class Combat:\n",
    "    def __init__(self, combatants):\n",
    "        self.round = 1\n",
    "        self.combatants = combatants\n",
    "        #self.c_area = c_area\n",
    "    \n",
    "#    def initiative(self.combatants):\n",
    "#        for c in self.combatants:\n",
    "#            setattr(c, 'initiative', d20() + c.initiative_bonus)\n",
    "    \n",
    "        "
   ]
  },
  {
   "cell_type": "code",
   "execution_count": 8,
   "metadata": {},
   "outputs": [],
   "source": [
    "tiny = Creature('pc', races.dwarf_hill)\n",
    "pc_class = PcClass()\n",
    "pc = Pc()"
   ]
  },
  {
   "cell_type": "code",
   "execution_count": 9,
   "metadata": {},
   "outputs": [],
   "source": [
    "pc_class.add_first_class(tiny, pc_classes.barbarian, 'pb')"
   ]
  },
  {
   "cell_type": "code",
   "execution_count": 10,
   "metadata": {},
   "outputs": [
    {
     "data": {
      "text/plain": [
       "16"
      ]
     },
     "execution_count": 10,
     "metadata": {},
     "output_type": "execute_result"
    }
   ],
   "source": [
    "tiny.hp_max"
   ]
  },
  {
   "cell_type": "code",
   "execution_count": 11,
   "metadata": {},
   "outputs": [
    {
     "data": {
      "text/plain": [
       "{'barbarian': 1}"
      ]
     },
     "execution_count": 11,
     "metadata": {},
     "output_type": "execute_result"
    }
   ],
   "source": [
    "tiny.pc_classes"
   ]
  },
  {
   "cell_type": "code",
   "execution_count": 12,
   "metadata": {},
   "outputs": [],
   "source": [
    "for i in range(19):\n",
    "    pc_class.add_class_lvl(tiny, 'barbarian')"
   ]
  },
  {
   "cell_type": "code",
   "execution_count": 13,
   "metadata": {},
   "outputs": [
    {
     "data": {
      "text/plain": [
       "20"
      ]
     },
     "execution_count": 13,
     "metadata": {},
     "output_type": "execute_result"
    }
   ],
   "source": [
    "tiny.pc_classes['barbarian']"
   ]
  },
  {
   "cell_type": "code",
   "execution_count": 14,
   "metadata": {},
   "outputs": [
    {
     "data": {
      "text/plain": [
       "225"
      ]
     },
     "execution_count": 14,
     "metadata": {},
     "output_type": "execute_result"
    }
   ],
   "source": [
    "tiny.hp_max"
   ]
  },
  {
   "cell_type": "code",
   "execution_count": 15,
   "metadata": {},
   "outputs": [
    {
     "data": {
      "text/plain": [
       "6"
      ]
     },
     "execution_count": 15,
     "metadata": {},
     "output_type": "execute_result"
    }
   ],
   "source": [
    "tiny.proficiency_bonus"
   ]
  },
  {
   "cell_type": "code",
   "execution_count": 16,
   "metadata": {},
   "outputs": [
    {
     "data": {
      "text/plain": [
       "15"
      ]
     },
     "execution_count": 16,
     "metadata": {},
     "output_type": "execute_result"
    }
   ],
   "source": [
    "tiny.ac"
   ]
  },
  {
   "cell_type": "code",
   "execution_count": 17,
   "metadata": {},
   "outputs": [
    {
     "data": {
      "text/plain": [
       "{'barbarian': 20}"
      ]
     },
     "execution_count": 17,
     "metadata": {},
     "output_type": "execute_result"
    }
   ],
   "source": [
    "tiny.pc_classes"
   ]
  },
  {
   "cell_type": "code",
   "execution_count": 19,
   "metadata": {},
   "outputs": [
    {
     "data": {
      "text/plain": [
       "20"
      ]
     },
     "execution_count": 19,
     "metadata": {},
     "output_type": "execute_result"
    }
   ],
   "source": [
    "tiny.pc_lvl"
   ]
  },
  {
   "cell_type": "code",
   "execution_count": 24,
   "metadata": {},
   "outputs": [
    {
     "name": "stdout",
     "output_type": "stream",
     "text": [
      "perception\n",
      "longsword\n",
      "shortsword\n",
      "shortbow\n",
      "longbow\n"
     ]
    }
   ],
   "source": [
    "for i in races.elf_high['proficiencies']:\n",
    "    print(i[0])"
   ]
  },
  {
   "cell_type": "code",
   "execution_count": 26,
   "metadata": {},
   "outputs": [
    {
     "data": {
      "text/plain": [
       "['acrobatics',\n",
       " 'animal handling',\n",
       " 'arcana',\n",
       " 'athletics',\n",
       " 'deception',\n",
       " 'history',\n",
       " 'insight',\n",
       " 'intimidation',\n",
       " 'investigation',\n",
       " 'medicine',\n",
       " 'nature',\n",
       " 'perception',\n",
       " 'performance',\n",
       " 'persuasion',\n",
       " 'religion',\n",
       " 'sleight of hand',\n",
       " 'stealth',\n",
       " 'survival']"
      ]
     },
     "execution_count": 26,
     "metadata": {},
     "output_type": "execute_result"
    }
   ],
   "source": [
    "[key for key in tiny.skills.keys()]"
   ]
  },
  {
   "cell_type": "code",
   "execution_count": 25,
   "metadata": {},
   "outputs": [],
   "source": [
    "### consume spell slot command"
   ]
  }
 ],
 "metadata": {
  "kernelspec": {
   "display_name": "Python 3",
   "language": "python",
   "name": "python3"
  },
  "language_info": {
   "codemirror_mode": {
    "name": "ipython",
    "version": 3
   },
   "file_extension": ".py",
   "mimetype": "text/x-python",
   "name": "python",
   "nbconvert_exporter": "python",
   "pygments_lexer": "ipython3",
   "version": "3.7.7"
  }
 },
 "nbformat": 4,
 "nbformat_minor": 4
}
