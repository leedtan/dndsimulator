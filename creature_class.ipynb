{
 "cells": [
  {
   "cell_type": "code",
   "execution_count": null,
   "metadata": {},
   "outputs": [],
   "source": [
    "### start of a creature class\n",
    "\n",
    "\n",
    "name = {'name':'aarakocra', 'abilities':{'str':10, 'dex':14, 'con':10, 'int':11, 'wis': 12, 'cha':11},\n",
    "          'hp':13, 'alt_hp':[8, 3], 'ac': 12, 'actions':['attack', 'cast', 'dash', 'disengage', 'dodge', 'help', 'hide', \n",
    "                                                         'ready', 'search', 'use an object', 'improvise'],\n",
    "          'bonus_actions': {}, 'feats':{}, 'traits':{}, 'initiative': 2, \n",
    "           'inventory':{}, 'vision': None, 'movement':{'walking': 20, 'flight': 50, 'swimming': None, \n",
    "                                                                       'climbing': None}}\n",
    "class Creature:\n",
    "    def __init__(self):\n",
    "        pass\n",
    "    \n",
    "    def create_creature(self, dictionary):\n",
    "        setattr(self, 'species', dictionary['name'])\n",
    "        setattr(self, 'abilities', dictionary['abilities'])\n",
    "        setattr(self, 'hp', dictionary['hp'])\n",
    "        setattr(self, 'alt_hp', dictionary['alt_hp'])\n",
    "        setattr(self, 'ac', dictionary['ac'])\n",
    "        setattr(self, 'actions', dictionary['actions'])\n",
    "        setattr(self, 'bonus_actions', dictionary['bonus_actions'])\n",
    "        setattr(self, 'feats', dictionary['feats'])\n",
    "        setattr(self, 'traits', dictionary['traits'])\n",
    "        setattr(self, 'initiative_bonus', dictionary['initiative'])\n",
    "        setattr(self, 'inventory', dictionary['inventory'])\n",
    "        setattr(self, 'vision', dictionary['vision'])\n",
    "        setattr(self, 'movement', dictionary['movement'])\n",
    "        \n",
    "        "
   ]
  }
 ],
 "metadata": {
  "kernelspec": {
   "display_name": "Python 3",
   "language": "python",
   "name": "python3"
  },
  "language_info": {
   "codemirror_mode": {
    "name": "ipython",
    "version": 3
   },
   "file_extension": ".py",
   "mimetype": "text/x-python",
   "name": "python",
   "nbconvert_exporter": "python",
   "pygments_lexer": "ipython3",
   "version": "3.7.7"
  }
 },
 "nbformat": 4,
 "nbformat_minor": 4
}
