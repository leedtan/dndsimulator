{
 "cells": [
  {
   "cell_type": "markdown",
   "metadata": {},
   "source": [
    "# Outline of thought process\n",
    "- starting out with the creature class as the base class. The creature class will be used to create monsters/creatures that<br>\n",
    "have not become npcs\n",
    "\n",
    "- the pc_class class will be used to give player characters access to class mechanics\n",
    "- the pc class will inherit from the creature class and the pc_class class to create a pc\n",
    "- the npc class will inherit from the creature class and set the is_npc flag of an object to True so that a monster can be <br>\n",
    "changed to npc status and stored to come back as a recurring character\n",
    "- the item class will be used to create all items(including interactable objects our pcs might run into or use to change the <br> course of a battle. Think setting a fire to obscure the battle field or wedging a door shut\n"
   ]
  },
  {
   "cell_type": "code",
   "execution_count": 1,
   "metadata": {},
   "outputs": [],
   "source": [
    "from dice import Dice\n",
    "from skills import skills\n",
    "import pc_classes\n",
    "import creatures\n",
    "import races"
   ]
  },
  {
   "cell_type": "code",
   "execution_count": 3,
   "metadata": {},
   "outputs": [
    {
     "data": {
      "text/plain": [
       "'d12'"
      ]
     },
     "execution_count": 3,
     "metadata": {},
     "output_type": "execute_result"
    }
   ],
   "source": [
    "pc_classes.barbarian['hit_die']"
   ]
  },
  {
   "cell_type": "code",
   "execution_count": null,
   "metadata": {},
   "outputs": [],
   "source": [
    "### start of a creature class\n",
    "\n",
    "class Creature:\n",
    "    def __init__(self):\n",
    "        pass\n",
    "    \n",
    "    def create_creature(self, keys_list, dictionary):\n",
    "        for key in keys_list:\n",
    "            if key in dictionary:\n",
    "                setattr(self, str(key), dictionary[key])\n",
    "            else:\n",
    "                setattr(self, str(key), False)\n",
    "\n",
    "    #def attack(weapon):\n",
    "    #def item_equip(self, item):\n",
    "    #def add_inventory:\n",
    "    #def cast(spell):\n",
    "        #if spell.r_attack == True:\n",
    "            #attack(spell)\n",
    "        #elif spell.r_save == True:\n",
    "        #else:\n",
    "            #do a thing\n",
    "    #def attack(weapon):\n",
    "        #if weapon.a_type == melee:\n",
    "            #do some things\n",
    "        #elif weapon.a_type == ranged:\n",
    "            #do some things\n",
    "    #def dash(movement):\n",
    "    #def disengage():\n",
    "    #def dodge(self.advantage_toggle):\n",
    "    #def help(target):\n",
    "    #def hide(stealth_check):\n",
    "    #def ready(trigger, action):\n",
    "    #def search(perception_check):\n",
    "    #def use_an_object():\n",
    "    #def imporovise(skill_check):\n",
    "\n",
    "\n",
    "        \n"
   ]
  },
  {
   "cell_type": "code",
   "execution_count": null,
   "metadata": {},
   "outputs": [],
   "source": [
    "# keeping pc_class and pc as different classes to account for multi-classing\n",
    "\n",
    "class PcClass:\n",
    "    pass\n",
    "    "
   ]
  },
  {
   "cell_type": "code",
   "execution_count": null,
   "metadata": {},
   "outputs": [],
   "source": [
    "class Pc(Creature, PcClass):\n",
    "    def __init__(self):\n",
    "        pass\n",
    "    def create_pc(self):\n",
    "        setattr(self, 'pc', True)\n",
    "    "
   ]
  },
  {
   "cell_type": "code",
   "execution_count": null,
   "metadata": {},
   "outputs": [],
   "source": [
    "class Npc(Creature):\n",
    "    def __init__(self):\n",
    "        pass\n",
    "    def is_npc(self):\n",
    "        setattr(self, 'npc', True)"
   ]
  },
  {
   "cell_type": "code",
   "execution_count": null,
   "metadata": {},
   "outputs": [],
   "source": [
    "class item:\n",
    "    pass"
   ]
  },
  {
   "cell_type": "code",
   "execution_count": null,
   "metadata": {},
   "outputs": [],
   "source": [
    "class Combat:\n",
    "    def __init__(self, combatants):\n",
    "        self.round = 1\n",
    "        self.combatants = combatants\n",
    "        #self.c_area = c_area\n",
    "    \n",
    "    def initiative(self.combatants):\n",
    "        for c in self.combatants:\n",
    "            setattr(c, 'initiative', d20() + c.initiative_bonus)\n",
    "    \n",
    "        "
   ]
  }
 ],
 "metadata": {
  "kernelspec": {
   "display_name": "Python 3",
   "language": "python",
   "name": "python3"
  },
  "language_info": {
   "codemirror_mode": {
    "name": "ipython",
    "version": 3
   },
   "file_extension": ".py",
   "mimetype": "text/x-python",
   "name": "python",
   "nbconvert_exporter": "python",
   "pygments_lexer": "ipython3",
   "version": "3.7.7"
  }
 },
 "nbformat": 4,
 "nbformat_minor": 4
}
