{
 "cells": [
  {
   "cell_type": "markdown",
   "metadata": {},
   "source": [
    "# Outline of thought process\n",
    "- starting out with the creature class as the base class. The creature class will be used to create monsters/creatures that<br>\n",
    "have not become npcs\n",
    "\n",
    "- the pc_class class will be used to give player characters access to class mechanics\n",
    "- the pc class will inherit from the creature class and the pc_class class to create a pc\n",
    "- the npc class will inherit from the creature class and set the is_npc flag of an object to True so that a monster can be <br>\n",
    "changed to npc status and stored to come back as a recurring character\n",
    "- the item class will be used to create all items(including interactable objects our pcs might run into or use to change the <br> course of a battle. Think setting a fire to obscure the battle field or wedging a door shut\n"
   ]
  },
  {
   "cell_type": "code",
   "execution_count": 1,
   "metadata": {},
   "outputs": [],
   "source": [
    "import pc_classes\n",
    "import creatures\n",
    "import races\n",
    "import copy\n",
    "\n",
    "from dice import Dice, DiceBag as DB, dice_avg\n",
    "from skills import skills\n",
    "from weapons import weapons as wpn\n",
    "from armor import armor as ar"
   ]
  },
  {
   "cell_type": "code",
   "execution_count": 2,
   "metadata": {},
   "outputs": [],
   "source": [
    "db = DB()"
   ]
  },
  {
   "cell_type": "code",
   "execution_count": 3,
   "metadata": {},
   "outputs": [],
   "source": [
    "### start of a creature class\n",
    "\n",
    "class Creature():\n",
    "    def __init__(self, creature):\n",
    "        creature_attrs = creatures.creature_keys\n",
    "        self.entity_type = 'monster'\n",
    "        for key in creature.keys():\n",
    "            setattr(self, key, creature[key])\n",
    "        for attr in creature_attrs:\n",
    "            if hasattr(self, attr)==True:\n",
    "                pass\n",
    "            else:\n",
    "                setattr(self, attr, False)\n",
    "        self.disposition = 'hostile'\n",
    "                \n",
    "    def __dual_weilder_check(self):\n",
    "        dual_weilder = False\n",
    "        for prof in self.proficiencies:\n",
    "            if 'dual_weilder' in prof:\n",
    "                dual_weilder = True\n",
    "        return dual_weilder\n",
    "    \n",
    "    def __armor_disadvantage(self):\n",
    "        if self.disadvantage == False:\n",
    "            self.disadvantage = []\n",
    "            \n",
    "        self.disadvantage.append('dex')\n",
    "        self.disadvantage.append('str')\n",
    "        self.disadvantage.append('attack')\n",
    "        self.spell_casting = False\n",
    "        for skill in self.skills:\n",
    "            if self.skills[skill]['ability']== 'str' or self.skills[skill]    ['ability']== 'dex':\n",
    "                self.disadvantage.append(skill)\n",
    "                \n",
    "    def equip_armor(self, armor):\n",
    "        ac_base = armor['armor_class']['base']\n",
    "        ac_dex_bon = armor['armor_class']['dex_mod']\n",
    "        ac_dex_max = armor['armor_class']['dex_mod_max']\n",
    "        ac_str_req = armor['str_req']\n",
    "        ac_stealth = armor['stealth_penalty']\n",
    "        \n",
    "        if self.armor == False:\n",
    "            self.armor = armor['name']\n",
    "            if ac_str_req != False:\n",
    "                self.ac = ac_base\n",
    "                if self.abilities['str'] < ac_str_req:\n",
    "                    self.movement -= 10\n",
    "            if ac_dex_bon == True:\n",
    "                if ac_dex_max != False:\n",
    "                    self.ac = ac_base + ac_dex_max\n",
    "                else:\n",
    "                    self.ac = ac_base + creatures.ability_mod_tbl[self.abilities['dex']]\n",
    "            else:\n",
    "                self.ac = ac_base\n",
    "            \n",
    "            for prof in self.proficiencies:\n",
    "                if armor['type'] in prof:\n",
    "                    pass\n",
    "            else:\n",
    "                self.__armor_disadvantage()\n",
    "\n",
    "        else:\n",
    "            print(self.armor + ' is already equiped.')\n",
    "    \n",
    "    def equip_shield(self, shield):\n",
    "        if self.off_hand == False:\n",
    "            self.ac += 2\n",
    "            self.off_hand == shield['name']\n",
    "            for prof in self.proficiencies:\n",
    "                if shield['type'] in prof:\n",
    "                    pass\n",
    "            else:\n",
    "                self.__armor_disadvantage()\n",
    "        else:\n",
    "            print(self.off_hand + ' is already equiped.')\n",
    "            \n",
    "    \n",
    "    def equip_weapon(self, weapon, main_hand = True, off_hand = False, \n",
    "                     versatile=False,):\n",
    "        dual_weilder = self.__dual_weilder_check()\n",
    "\n",
    "        #for prof in self.proficiencies:\n",
    "        #    if 'dual_weilder' in prof:\n",
    "        #        dual_weilder = True\n",
    "        if off_hand == False and versatile == False:\n",
    "            if self.main_hand != False:\n",
    "                print(self.main_hand + ' is already equiped')\n",
    "            else:\n",
    "                if 'two_handed' in weapon['properties']:\n",
    "                    self.main_hand = weapon['name']\n",
    "                    self.off_hand = weapon['name']\n",
    "                else:   \n",
    "                    self.main_hand = weapon['name']\n",
    "        if versatile == True:\n",
    "            if self.off_hand != False:\n",
    "                print(self.off_hand + \n",
    "                      ' is equipped in off_hand. Please unequip to use this weapons versatile properties')\n",
    "            elif self.main_hand != False or self.main_hand != weapon['name']:\n",
    "                print(self.main_hand +\n",
    "                     ' is equipped. Please unequip this weapon to equip a new weapon')\n",
    "            else:\n",
    "                self.main_hand = weapon['name']\n",
    "                self.off_hand = weapon['name']\n",
    "                \n",
    "        if off_hand == True:\n",
    "            if self.off_hand != False:\n",
    "                print(self.off_hand + ' is already equiped')\n",
    "            elif self.main_hand != False:\n",
    "                if'light' not in wpn[self.main_hand]['properties'] and dual_weilder == False:\n",
    "                    print('You do not meet the requirements for dual weilding')\n",
    "            elif 'light' not in weapon['proficiencies'] and dual_weilder == False:\n",
    "                 print('You do not meet the requirements for dual weilding')\n",
    "            else:\n",
    "                self.off_hand = weapon['name']\n",
    "        \n",
    "    def unequip_weapon(self, main_hand = True, off_hand = False):\n",
    "        if main_hand == True:\n",
    "            self.main_hand = False\n",
    "        if off_hand == True:\n",
    "            self.off_hand = False\n",
    "                \n",
    "    #def un-equip_armor(self)\n",
    "    #def add_inventory(self, itm):\n",
    "    #def cast(self, spell):\n",
    "        #if spell.r_attack == True:\n",
    "            #attack(spell)\n",
    "        #elif spell.r_save == True:\n",
    "        #else:\n",
    "            #do a thing\n",
    "    #def attack(self):\n",
    "        #if self.main_hand == False and self.off_hand == False\n",
    "        #if weapon.a_type == melee:\n",
    "            #do some things\n",
    "        #elif weapon.a_type == ranged:\n",
    "            #do some things\n",
    "    #def dash(self, movement):\n",
    "    #def disengage(self):\n",
    "    #def dodge(self.advantage_toggle):\n",
    "    #def help(self,target):\n",
    "    #def hide(self, stealth_check):\n",
    "    #def ready(self, trigger, action):\n",
    "    #def search(self, perception_check):\n",
    "    #def use_an_object(self):\n",
    "    #def imporovise(self, skill_check):"
   ]
  },
  {
   "cell_type": "code",
   "execution_count": 4,
   "metadata": {},
   "outputs": [],
   "source": [
    "class Pc(Creature):\n",
    "    def __init__(self):\n",
    "        pass\n",
    "    def create_pc(self, creature):\n",
    "        self.entity_type = 'pc'\n",
    "        self.disposition = 'ally'\n",
    "        setattr(creature, 'pc', True)\n",
    "        setattr(creature, 'pc_lvl', 1)\n",
    "        setattr(creature, 'proficiency_bonus', pc_classes.prof_bonus[creature.pc_lvl])\n",
    "        creature.skills = copy.deepcopy(skills)\n",
    "        creature.initiative_bonus = creatures.ability_mod_tbl[creature.abilities['dex']]\n",
    "        if creature.armor == False and creature.ac == False:\n",
    "            dex_mod = creatures.ability_mod_tbl[creature.abilities['dex']]\n",
    "            wis_mod = creatures.ability_mod_tbl[creature.abilities['wis']]\n",
    "            con_mod = creatures.ability_mod_tbl[creature.abilities['con']]\n",
    "            barb_ua = 10 + con_mod + dex_mod\n",
    "            monk_ua = 10 + dex_mod + wis_mod\n",
    "            if 'barbarian' in creature.pc_classes.keys() & 'monk' in creature.pc_classes.keys():\n",
    "                unarmored_defense = []\n",
    "                unarmored_defense.append(barb_ua)\n",
    "                unarmored_defense.append(monk_ua)\n",
    "                creature.ac = max(unarmored_defense)\n",
    "            elif 'barbarian' in creature.pc_classes.keys():\n",
    "                creature.ac = barb_ua\n",
    "            elif 'monk' in creature.pc_classes.keys():\n",
    "                creature.ac = monk_ua\n",
    "            else:\n",
    "                creature.ac = 10 + creatures.ability_mod_tbl[creature.abilities['dex']]\n",
    "        "
   ]
  },
  {
   "cell_type": "code",
   "execution_count": null,
   "metadata": {},
   "outputs": [],
   "source": []
  },
  {
   "cell_type": "code",
   "execution_count": 5,
   "metadata": {},
   "outputs": [],
   "source": [
    "# keeping pc_class and pc as different classes to account for multi-classing\n",
    "\n",
    "class PcClass:\n",
    "    def __init__(self):\n",
    "        pass\n",
    "    \n",
    "    def __hill_dwarf_hp_bonus(self, creature):\n",
    "        creature.hp_max += 1\n",
    "        \n",
    "    def add_first_class(self, creature, pc_class, gen_method):\n",
    "        p_class = pc_class['pc_class']\n",
    "        setattr(creature, 'pc_classes', {p_class:1})\n",
    "        setattr(creature, 'abilities', gen_method)\n",
    "        \n",
    "        ### adds first class attrs to creature\n",
    "        for key in pc_class.keys():\n",
    "            if key=='pc_class':\n",
    "                pass\n",
    "            else:\n",
    "                setattr(creature, key, pc_class[key])\n",
    "                \n",
    "        ### adds racial bonuses to ability scores \n",
    "        for key in creature.ability_score_increase.keys():\n",
    "            creature.abilities[key] += creature.ability_score_increase[key]\n",
    "        \n",
    "        #Turns creature with class into pc\n",
    "        Pc.create_pc(self, creature)\n",
    "        \n",
    "        #move class profs into creature profs\n",
    "        for prof in creature.arm_weap_prof:\n",
    "            creature.proficiencies.append(prof)\n",
    "            \n",
    "        \n",
    "        ### sets hp_max\n",
    "        con_bonus = creatures.ability_mod_tbl[creature.abilities['con']]\n",
    "        hp_max = int(pc_class['hit_die'][1:]) + con_bonus\n",
    "        creature.hp_max = hp_max\n",
    "        if creature.subrace == 'hill':\n",
    "            self.__hill_dwarf_hp_bonus(creature)\n",
    "            \n",
    "    def add_class_lvl(self, creature, p_class_name):\n",
    "        ### update hp_max\n",
    "        class_hp_add = dice_avg[creature.hit_die]\n",
    "        con_bonus = creatures.ability_mod_tbl[creature.abilities['con']]\n",
    "        creature.hp_max += class_hp_add + con_bonus\n",
    "        if creature.subrace == 'hill':\n",
    "            self.hill_dwarf_hp_bonus(creature)\n",
    "        \n",
    "        creature.pc_classes[p_class_name] += 1\n",
    "        creature.pc_lvl += 1\n",
    "        creature.proficiency_bonus = pc_classes.prof_bonus[creature.pc_lvl]\n"
   ]
  },
  {
   "cell_type": "code",
   "execution_count": 6,
   "metadata": {},
   "outputs": [],
   "source": [
    "class Npc(Creature):\n",
    "    def __init__(self):\n",
    "        pass\n",
    "    def is_npc(self):\n",
    "        self.entity_type = 'npc'\n",
    "        self.entity_type = 'indifferent'\n",
    "        setattr(self, 'npc', True)\n",
    "        setattr(creature, 'max_hp', 0)"
   ]
  },
  {
   "cell_type": "code",
   "execution_count": 7,
   "metadata": {},
   "outputs": [],
   "source": [
    "class item:\n",
    "    def __init__(self):\n",
    "        pass\n",
    "    "
   ]
  },
  {
   "cell_type": "code",
   "execution_count": null,
   "metadata": {},
   "outputs": [],
   "source": []
  },
  {
   "cell_type": "code",
   "execution_count": 8,
   "metadata": {},
   "outputs": [],
   "source": [
    "class Combat:\n",
    "    def __init__(self, combatants, e_combatants):\n",
    "        self.round = 1\n",
    "        for c in e_combatants:\n",
    "            c.disposition = 'hostile'\n",
    "        self.combatants = combatants + e_combatants\n",
    "        #self.c_area = c_area\n",
    "\n",
    "    def __order_combat(self):\n",
    "        for i in range(1, len(self.combatants)):\n",
    "            key_item = self.combatants[i]\n",
    "            key_item_num = key_item.initiative\n",
    "            \n",
    "            j = i-1\n",
    "            \n",
    "            while j>=0 and self.combatants[j].initiative < key_item_num:\n",
    "                self.combatants[j+1] = self.combatants[j]\n",
    "                j -= 1\n",
    "                \n",
    "            self.combatants[j + 1] = key_item\n",
    "        \n",
    "    def initiative(self):\n",
    "        for c in self.combatants:\n",
    "            advantage = hasattr(c, 'advantage')\n",
    "            disadvantage = hasattr(c, 'disadvantage')\n",
    "            init_advantage = False\n",
    "            init_disadvantage = True\n",
    "            \n",
    "            if advantage == True:\n",
    "                if 'initiative' or 'dex' in c.advantage:\n",
    "                    init_advantage = True\n",
    "            if disadvantage == True:\n",
    "                if 'initiative' or 'dex' in c.disadvantage:\n",
    "                    init_disadvantage = True\n",
    "            if init_advantage == True and init_disadvantage == True:\n",
    "                setattr(c, 'initiative', db.d20.roll() + c.initiative_bonus + c.abilities['dex']/100)\n",
    "            elif init_advantage == True:\n",
    "                setattr(c, 'initiative', db.roll_advantage() + c.initiative_bonus + c.abilities['dex']/100)\n",
    "            elif init_disadvantage == True:\n",
    "                setattr(c, 'initiative', db.roll_disadvantage() + c.initiative_bonus + c.abilities['dex']/100)\n",
    "            else:\n",
    "                setattr(c, 'initiative', db.d20.roll() + c.initiative_bonus + c.abilities['dex']/100)\n",
    "        self.__order_combat()\n",
    "    \n"
   ]
  },
  {
   "cell_type": "code",
   "execution_count": 9,
   "metadata": {},
   "outputs": [],
   "source": [
    "tiny = Creature(races.dwarf_hill)\n",
    "pc_class = PcClass()"
   ]
  },
  {
   "cell_type": "code",
   "execution_count": 10,
   "metadata": {},
   "outputs": [
    {
     "data": {
      "text/plain": [
       "{'pb': {'str': 15, 'dex': 14, 'con': 14, 'int': 8, 'wis': 10, 'cha': 10},\n",
       " 'sa': {'str': 15, 'dex': 13, 'con': 14, 'int': 8, 'wis': 10, 'cha': 12}}"
      ]
     },
     "execution_count": 10,
     "metadata": {},
     "output_type": "execute_result"
    }
   ],
   "source": [
    "pc_classes.barbarian['ability_by_method']"
   ]
  },
  {
   "cell_type": "code",
   "execution_count": 11,
   "metadata": {},
   "outputs": [],
   "source": [
    "pc_class.add_first_class(tiny, pc_classes.barbarian, pc_classes.barbarian['ability_by_method']['pb'])"
   ]
  },
  {
   "cell_type": "code",
   "execution_count": 12,
   "metadata": {},
   "outputs": [
    {
     "data": {
      "text/plain": [
       "False"
      ]
     },
     "execution_count": 12,
     "metadata": {},
     "output_type": "execute_result"
    }
   ],
   "source": [
    "tiny.disadvantage"
   ]
  },
  {
   "cell_type": "code",
   "execution_count": 13,
   "metadata": {},
   "outputs": [
    {
     "data": {
      "text/plain": [
       "15"
      ]
     },
     "execution_count": 13,
     "metadata": {},
     "output_type": "execute_result"
    }
   ],
   "source": [
    "tiny.ac"
   ]
  },
  {
   "cell_type": "code",
   "execution_count": 14,
   "metadata": {},
   "outputs": [
    {
     "data": {
      "text/plain": [
       "False"
      ]
     },
     "execution_count": 14,
     "metadata": {},
     "output_type": "execute_result"
    }
   ],
   "source": [
    "tiny.disadvantage"
   ]
  },
  {
   "cell_type": "code",
   "execution_count": 15,
   "metadata": {},
   "outputs": [
    {
     "data": {
      "text/plain": [
       "{'acrobatics': {'ability': 'dex', 'prof': False},\n",
       " 'animal handling': {'ability': 'wis', 'prof': False},\n",
       " 'arcana': {'ability': 'int', 'prof': False},\n",
       " 'athletics': {'ability': 'str', 'prof': False},\n",
       " 'deception': {'ability': 'cha', 'prof': False},\n",
       " 'history': {'ability': 'int', 'prof': False},\n",
       " 'insight': {'ability': 'wis', 'prof': False},\n",
       " 'intimidation': {'ability': 'cha', 'prof': 'false'},\n",
       " 'investigation': {'ability': 'int', 'prof': False},\n",
       " 'medicine': {'ability': 'wis', 'prof': False},\n",
       " 'nature': {'ability': 'int', 'prof': False},\n",
       " 'perception': {'ability': 'wis', 'prof': False},\n",
       " 'performance': {'ability': 'cha', 'prof': False},\n",
       " 'persuasion': {'ability': 'cha', 'prof': False},\n",
       " 'religion': {'ability': 'int', 'prof': False},\n",
       " 'sleight of hand': {'ability': 'dex', 'prof': False},\n",
       " 'stealth': {'ability': 'dex', 'prof': False},\n",
       " 'survival': {'ability': 'wis', 'prof': False}}"
      ]
     },
     "execution_count": 15,
     "metadata": {},
     "output_type": "execute_result"
    }
   ],
   "source": [
    "tiny.skills"
   ]
  },
  {
   "cell_type": "code",
   "execution_count": 16,
   "metadata": {},
   "outputs": [],
   "source": [
    "### consume spell slot command"
   ]
  },
  {
   "cell_type": "code",
   "execution_count": 17,
   "metadata": {},
   "outputs": [
    {
     "data": {
      "text/plain": [
       "False"
      ]
     },
     "execution_count": 17,
     "metadata": {},
     "output_type": "execute_result"
    }
   ],
   "source": [
    "tiny.armor"
   ]
  },
  {
   "cell_type": "code",
   "execution_count": 18,
   "metadata": {},
   "outputs": [],
   "source": [
    "tiny.equip_weapon(wpn['greataxe'])"
   ]
  },
  {
   "cell_type": "code",
   "execution_count": 19,
   "metadata": {},
   "outputs": [
    {
     "data": {
      "text/plain": [
       "'greataxe'"
      ]
     },
     "execution_count": 19,
     "metadata": {},
     "output_type": "execute_result"
    }
   ],
   "source": [
    "tiny.main_hand"
   ]
  },
  {
   "cell_type": "code",
   "execution_count": 20,
   "metadata": {},
   "outputs": [
    {
     "name": "stdout",
     "output_type": "stream",
     "text": [
      "greataxe is already equiped\n"
     ]
    }
   ],
   "source": [
    "tiny.equip_weapon(wpn['shortsword'], off_hand = True)"
   ]
  },
  {
   "cell_type": "code",
   "execution_count": 21,
   "metadata": {},
   "outputs": [
    {
     "data": {
      "text/plain": [
       "2"
      ]
     },
     "execution_count": 21,
     "metadata": {},
     "output_type": "execute_result"
    }
   ],
   "source": [
    "tiny.initiative_bonus"
   ]
  },
  {
   "cell_type": "code",
   "execution_count": 22,
   "metadata": {},
   "outputs": [],
   "source": [
    "evil_tiny = copy.deepcopy(tiny)"
   ]
  },
  {
   "cell_type": "code",
   "execution_count": 23,
   "metadata": {},
   "outputs": [],
   "source": [
    "g = [tiny]\n",
    "e = [evil_tiny]\n",
    "\n",
    "c_bat = Combat(g, e)"
   ]
  },
  {
   "cell_type": "code",
   "execution_count": 24,
   "metadata": {},
   "outputs": [],
   "source": [
    "c_bat.initiative()"
   ]
  },
  {
   "cell_type": "code",
   "execution_count": 25,
   "metadata": {},
   "outputs": [
    {
     "data": {
      "text/plain": [
       "11.14"
      ]
     },
     "execution_count": 25,
     "metadata": {},
     "output_type": "execute_result"
    }
   ],
   "source": [
    "c_bat.combatants[0].initiative"
   ]
  },
  {
   "cell_type": "code",
   "execution_count": 26,
   "metadata": {},
   "outputs": [
    {
     "data": {
      "text/plain": [
       "9.14"
      ]
     },
     "execution_count": 26,
     "metadata": {},
     "output_type": "execute_result"
    }
   ],
   "source": [
    "c_bat.combatants[1].initiative"
   ]
  },
  {
   "cell_type": "code",
   "execution_count": null,
   "metadata": {},
   "outputs": [],
   "source": []
  }
 ],
 "metadata": {
  "kernelspec": {
   "display_name": "Python 3",
   "language": "python",
   "name": "python3"
  },
  "language_info": {
   "codemirror_mode": {
    "name": "ipython",
    "version": 3
   },
   "file_extension": ".py",
   "mimetype": "text/x-python",
   "name": "python",
   "nbconvert_exporter": "python",
   "pygments_lexer": "ipython3",
   "version": "3.7.4"
  }
 },
 "nbformat": 4,
 "nbformat_minor": 4
}
