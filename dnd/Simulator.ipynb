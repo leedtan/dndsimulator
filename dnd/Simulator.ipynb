{
 "cells": [
  {
   "cell_type": "code",
   "execution_count": 1,
   "metadata": {},
   "outputs": [],
   "source": [
    "import simulator"
   ]
  },
  {
   "cell_type": "code",
   "execution_count": 2,
   "metadata": {
    "scrolled": false
   },
   "outputs": [
    {
     "name": "stdout",
     "output_type": "stream",
     "text": [
      "end val -1\n",
      "finished a combat 1\n",
      "end val -1\n",
      "end val -1\n",
      "finished a combat 1\n",
      "end val -1\n",
      "end val -1\n",
      "end val -1\n",
      "finished a combat 0\n",
      "end val -1\n",
      "finished a combat 1\n",
      "end val -1\n",
      "finished a combat 1\n",
      "end val -1\n",
      "end val -1\n",
      "finished a combat 0\n",
      "end val -1\n",
      "finished a combat 1\n",
      "end val -1\n",
      "end val -1\n",
      "finished a combat 1\n",
      "end val -1\n",
      "end val -1\n",
      "finished a combat 0\n",
      "finished a combat 1\n",
      "end val -1\n",
      "finished a combat 1\n",
      "end val -1\n",
      "end val -1\n",
      "end val -1\n",
      "finished a combat 0\n",
      "finished a combat 1\n",
      "end val -1\n",
      "finished a combat 1\n",
      "end val -1\n",
      "end val -1\n",
      "finished a combat 0\n",
      "finished a combat 1\n",
      "end val -1\n",
      "finished a combat 1\n",
      "end val -1\n",
      "finished a combat 0\n",
      "finished a combat 1\n",
      "end val -1\n",
      "end val -1\n",
      "finished a combat 1\n",
      "end val -1\n",
      "end val -1\n",
      "finished a combat 0\n",
      "end val -1\n",
      "finished a combat 1\n",
      "end val -1\n",
      "finished a combat 1\n",
      "end val -1\n",
      "finished a combat 0\n",
      "finished a combat 1\n",
      "end val -1\n",
      "end val -1\n",
      "finished a combat 1\n",
      "end val -1\n",
      "finished a combat 0\n",
      "end val -1\n",
      "finished a combat 1\n",
      "end val -1\n",
      "end val -1\n",
      "finished a combat 1\n",
      "end val -1\n",
      "end val -1\n",
      "finished a combat 0\n",
      "[2, 2, 2, 2, 2, 2, 2, 2, 2, 2]\n"
     ]
    },
    {
     "data": {
      "text/plain": [
       "[2, 2, 2, 2, 2, 2, 2, 2, 2, 2]"
      ]
     },
     "execution_count": 2,
     "metadata": {},
     "output_type": "execute_result"
    }
   ],
   "source": [
    "res = simulator.main()\n",
    "res"
   ]
  },
  {
   "cell_type": "code",
   "execution_count": 3,
   "metadata": {},
   "outputs": [
    {
     "data": {
      "text/plain": [
       "[2, 2, 2, 2, 2, 2, 2, 2, 2, 2]"
      ]
     },
     "execution_count": 3,
     "metadata": {},
     "output_type": "execute_result"
    }
   ],
   "source": [
    "res"
   ]
  },
  {
   "cell_type": "code",
   "execution_count": 4,
   "metadata": {},
   "outputs": [],
   "source": [
    "# pdb"
   ]
  },
  {
   "cell_type": "code",
   "execution_count": null,
   "metadata": {},
   "outputs": [],
   "source": []
  }
 ],
 "metadata": {
  "kernelspec": {
   "display_name": "Python 3",
   "language": "python",
   "name": "python3"
  },
  "language_info": {
   "codemirror_mode": {
    "name": "ipython",
    "version": 3
   },
   "file_extension": ".py",
   "mimetype": "text/x-python",
   "name": "python",
   "nbconvert_exporter": "python",
   "pygments_lexer": "ipython3",
   "version": "3.7.6"
  }
 },
 "nbformat": 4,
 "nbformat_minor": 4
}
