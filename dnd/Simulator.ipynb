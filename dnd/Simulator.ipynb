{
 "cells": [
  {
   "cell_type": "code",
   "execution_count": 4,
   "metadata": {},
   "outputs": [],
   "source": [
    "import sys\n",
    "import os.path\n",
    "file = os.getcwd()\n",
    "# sys.path.append(\n",
    "#     os.path.abspath(os.path.join(os.path.dirname(file), os.path.pardir)))\n",
    "sys.path.append(os.path.join('..', os.getcwd(), '..'))\n",
    "from armor import armor\n",
    "from weapons import weapons"
   ]
  },
  {
   "cell_type": "code",
   "execution_count": 19,
   "metadata": {},
   "outputs": [],
   "source": [
    "sys.path.append(os.path.join('..', os.getcwd(), '..'))"
   ]
  },
  {
   "cell_type": "code",
   "execution_count": 17,
   "metadata": {},
   "outputs": [
    {
     "data": {
      "text/plain": [
       "'C:\\\\workspace\\\\dndsimulator\\\\dnd\\\\..'"
      ]
     },
     "execution_count": 17,
     "metadata": {},
     "output_type": "execute_result"
    }
   ],
   "source": []
  },
  {
   "cell_type": "code",
   "execution_count": 20,
   "metadata": {},
   "outputs": [
    {
     "data": {
      "text/plain": [
       "['C:\\\\workspace\\\\dndsimulator\\\\dnd',\n",
       " 'C:\\\\Users\\\\leedt\\\\anaconda3\\\\python37.zip',\n",
       " 'C:\\\\Users\\\\leedt\\\\anaconda3\\\\DLLs',\n",
       " 'C:\\\\Users\\\\leedt\\\\anaconda3\\\\lib',\n",
       " 'C:\\\\Users\\\\leedt\\\\anaconda3',\n",
       " '',\n",
       " 'C:\\\\Users\\\\leedt\\\\AppData\\\\Roaming\\\\Python\\\\Python37\\\\site-packages',\n",
       " 'C:\\\\Users\\\\leedt\\\\anaconda3\\\\lib\\\\site-packages',\n",
       " 'c:\\\\users\\\\leedt\\\\workspace\\\\hypercube-client',\n",
       " 'C:\\\\Users\\\\leedt\\\\anaconda3\\\\lib\\\\site-packages\\\\requests_toolbelt-0.9.1-py3.7.egg',\n",
       " 'C:\\\\Users\\\\leedt\\\\anaconda3\\\\lib\\\\site-packages\\\\tensorflow-2.2.0-py3.7-win-amd64.egg',\n",
       " 'C:\\\\Users\\\\leedt\\\\anaconda3\\\\lib\\\\site-packages\\\\kubernetes-11.0.0-py3.7.egg',\n",
       " 'C:\\\\Users\\\\leedt\\\\anaconda3\\\\lib\\\\site-packages\\\\tox-3.15.1-py3.7.egg',\n",
       " 'C:\\\\Users\\\\leedt\\\\anaconda3\\\\lib\\\\site-packages\\\\tensorflow_estimator-2.2.0-py3.7.egg',\n",
       " 'C:\\\\Users\\\\leedt\\\\anaconda3\\\\lib\\\\site-packages\\\\tensorboard-2.2.2-py3.7.egg',\n",
       " 'C:\\\\Users\\\\leedt\\\\anaconda3\\\\lib\\\\site-packages\\\\opt_einsum-3.2.1-py3.7.egg',\n",
       " 'C:\\\\Users\\\\leedt\\\\anaconda3\\\\lib\\\\site-packages\\\\google_pasta-0.2.0-py3.7.egg',\n",
       " 'C:\\\\Users\\\\leedt\\\\anaconda3\\\\lib\\\\site-packages\\\\astunparse-1.6.3-py3.7.egg',\n",
       " 'C:\\\\Users\\\\leedt\\\\anaconda3\\\\lib\\\\site-packages\\\\websocket_client-0.57.0-py3.7.egg',\n",
       " 'C:\\\\Users\\\\leedt\\\\anaconda3\\\\lib\\\\site-packages\\\\requests_oauthlib-1.3.0-py3.7.egg',\n",
       " 'C:\\\\Users\\\\leedt\\\\anaconda3\\\\lib\\\\site-packages\\\\google_auth-1.16.0-py3.7.egg',\n",
       " 'C:\\\\Users\\\\leedt\\\\anaconda3\\\\lib\\\\site-packages\\\\virtualenv-20.0.21-py3.7.egg',\n",
       " 'C:\\\\Users\\\\leedt\\\\anaconda3\\\\lib\\\\site-packages\\\\toml-0.10.1-py3.7.egg',\n",
       " 'C:\\\\Users\\\\leedt\\\\anaconda3\\\\lib\\\\site-packages\\\\tensorboard_plugin_wit-1.6.0.post3-py3.7.egg',\n",
       " 'C:\\\\Users\\\\leedt\\\\anaconda3\\\\lib\\\\site-packages\\\\google_auth_oauthlib-0.4.1-py3.7.egg',\n",
       " 'C:\\\\Users\\\\leedt\\\\anaconda3\\\\lib\\\\site-packages\\\\oauthlib-3.1.0-py3.7.egg',\n",
       " 'C:\\\\Users\\\\leedt\\\\anaconda3\\\\lib\\\\site-packages\\\\cachetools-4.1.0-py3.7.egg',\n",
       " 'C:\\\\Users\\\\leedt\\\\anaconda3\\\\lib\\\\site-packages\\\\distlib-0.3.0-py3.7.egg',\n",
       " 'C:\\\\Users\\\\leedt\\\\anaconda3\\\\lib\\\\site-packages\\\\appdirs-1.4.4-py3.7.egg',\n",
       " 'c:\\\\workspace\\\\roi_baseline',\n",
       " 'C:\\\\Users\\\\leedt\\\\anaconda3\\\\lib\\\\site-packages\\\\win32',\n",
       " 'C:\\\\Users\\\\leedt\\\\anaconda3\\\\lib\\\\site-packages\\\\win32\\\\lib',\n",
       " 'C:\\\\Users\\\\leedt\\\\anaconda3\\\\lib\\\\site-packages\\\\Pythonwin',\n",
       " 'C:\\\\Users\\\\leedt\\\\anaconda3\\\\lib\\\\site-packages\\\\IPython\\\\extensions',\n",
       " 'C:\\\\Users\\\\leedt\\\\.ipython',\n",
       " 'C:\\\\workspace',\n",
       " 'C:\\\\workspace\\\\dndsimulator\\\\dnd',\n",
       " 'C:\\\\workspace\\\\dndsimulator\\\\dnd\\\\..']"
      ]
     },
     "execution_count": 20,
     "metadata": {},
     "output_type": "execute_result"
    }
   ],
   "source": [
    "sys.path"
   ]
  },
  {
   "cell_type": "code",
   "execution_count": 21,
   "metadata": {},
   "outputs": [],
   "source": []
  },
  {
   "cell_type": "code",
   "execution_count": 1,
   "metadata": {},
   "outputs": [],
   "source": [
    "# Tasks:\n",
    "#     DONE movement\n",
    "#     DONE reactions\n",
    "#     DONE replanning after reactions\n",
    "#     DONE attack prioritization\n",
    "#     Attacks:\n",
    "#         if first attack kills enemy, try to use remaining attacks\n",
    "#         calculate which attack should be priority\n",
    "#     Character:\n",
    "#         Build character progression class\n",
    "#         calculate damage based on stats\n",
    "#         calculate number of attacks, etc\n",
    "#         calc hitpoints, AC, saving throws, etc based on character\n",
    "#     special stuff:\n",
    "#         paladin aura\n",
    "#         web\n",
    "#         haste\n",
    "#         magic missile\n",
    "#         bless\n",
    "#         fireball\n",
    "#     combat:\n",
    "#         concentration checks\n",
    "#     gauntlet:\n",
    "#         incorporate skill checks"
   ]
  },
  {
   "cell_type": "code",
   "execution_count": null,
   "metadata": {},
   "outputs": [],
   "source": []
  },
  {
   "cell_type": "code",
   "execution_count": 2,
   "metadata": {},
   "outputs": [],
   "source": [
    "import simulator"
   ]
  },
  {
   "cell_type": "code",
   "execution_count": 3,
   "metadata": {},
   "outputs": [],
   "source": [
    "# pdb"
   ]
  },
  {
   "cell_type": "code",
   "execution_count": 4,
   "metadata": {},
   "outputs": [],
   "source": [
    "# !pip install snakeviz"
   ]
  },
  {
   "cell_type": "code",
   "execution_count": 5,
   "metadata": {},
   "outputs": [],
   "source": [
    "%load_ext snakeviz\n"
   ]
  },
  {
   "cell_type": "code",
   "execution_count": 6,
   "metadata": {
    "scrolled": true
   },
   "outputs": [
    {
     "name": "stdout",
     "output_type": "stream",
     "text": [
      "[3, 2, 3, 3, 2, 3, 3, 3, 2, 3, 3, 3, 3, 3, 2, 2, 3, 3, 3, 3, 3, 3, 3, 3, 2, 2, 2, 3, 3, 3]\n",
      " \n",
      "*** Profile stats marshalled to file 'C:\\\\Users\\\\10838233\\\\AppData\\\\Local\\\\Temp\\\\tmphkqesp_t'. \n",
      "Embedding SnakeViz in this document...\n"
     ]
    },
    {
     "data": {
      "text/html": [
       "\n",
       "<iframe id='snakeviz-cd454224-c62d-11eb-be54-94e6f78f9589' frameborder=0 seamless width='100%' height='1000'></iframe>\n",
       "<script>document.getElementById(\"snakeviz-cd454224-c62d-11eb-be54-94e6f78f9589\").setAttribute(\"src\", \"http://\" + document.location.hostname + \":8080/snakeviz/C%3A%5CUsers%5C10838233%5CAppData%5CLocal%5CTemp%5Ctmphkqesp_t\")</script>\n"
      ],
      "text/plain": [
       "<IPython.core.display.HTML object>"
      ]
     },
     "metadata": {},
     "output_type": "display_data"
    }
   ],
   "source": [
    "%%snakeviz\n",
    "res = simulator.main()\n",
    "res"
   ]
  },
  {
   "cell_type": "code",
   "execution_count": 7,
   "metadata": {
    "scrolled": true
   },
   "outputs": [
    {
     "data": {
      "text/plain": [
       "2.7333333333333334"
      ]
     },
     "execution_count": 7,
     "metadata": {},
     "output_type": "execute_result"
    }
   ],
   "source": [
    "sum(res)/len(res)"
   ]
  },
  {
   "cell_type": "code",
   "execution_count": 8,
   "metadata": {},
   "outputs": [
    {
     "data": {
      "text/plain": [
       "2"
      ]
     },
     "execution_count": 8,
     "metadata": {},
     "output_type": "execute_result"
    }
   ],
   "source": [
    "\n",
    "max(1, 2)"
   ]
  },
  {
   "cell_type": "code",
   "execution_count": null,
   "metadata": {},
   "outputs": [],
   "source": []
  }
 ],
 "metadata": {
  "kernelspec": {
   "display_name": "Python 3",
   "language": "python",
   "name": "python3"
  },
  "language_info": {
   "codemirror_mode": {
    "name": "ipython",
    "version": 3
   },
   "file_extension": ".py",
   "mimetype": "text/x-python",
   "name": "python",
   "nbconvert_exporter": "python",
   "pygments_lexer": "ipython3",
   "version": "3.7.6"
  }
 },
 "nbformat": 4,
 "nbformat_minor": 4
}
