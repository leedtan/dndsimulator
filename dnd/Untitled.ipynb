{
 "cells": [
  {
   "cell_type": "code",
   "execution_count": null,
   "id": "2cd95b9d",
   "metadata": {},
   "outputs": [],
   "source": [
    ".3, .15"
   ]
  },
  {
   "cell_type": "code",
   "execution_count": 1,
   "id": "b970790b",
   "metadata": {},
   "outputs": [
    {
     "data": {
      "text/plain": [
       "0.405"
      ]
     },
     "execution_count": 1,
     "metadata": {},
     "output_type": "execute_result"
    }
   ],
   "source": [
    "1-(.7 * .85)"
   ]
  },
  {
   "cell_type": "code",
   "execution_count": null,
   "id": "d64e7c72",
   "metadata": {},
   "outputs": [],
   "source": [
    "1 - product([(1 - reach) for reach in reach_levers])"
   ]
  },
  {
   "cell_type": "code",
   "execution_count": null,
   "id": "4214f627",
   "metadata": {},
   "outputs": [],
   "source": []
  }
 ],
 "metadata": {
  "kernelspec": {
   "display_name": "Python 3",
   "language": "python",
   "name": "python3"
  },
  "language_info": {
   "codemirror_mode": {
    "name": "ipython",
    "version": 3
   },
   "file_extension": ".py",
   "mimetype": "text/x-python",
   "name": "python",
   "nbconvert_exporter": "python",
   "pygments_lexer": "ipython3",
   "version": "3.7.6"
  }
 },
 "nbformat": 4,
 "nbformat_minor": 5
}
