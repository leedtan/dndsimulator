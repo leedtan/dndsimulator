{
 "cells": [
  {
   "cell_type": "code",
   "execution_count": 1,
   "metadata": {},
   "outputs": [],
   "source": [
    "import random"
   ]
  },
  {
   "cell_type": "code",
   "execution_count": 2,
   "metadata": {},
   "outputs": [],
   "source": [
    "import itertools\n",
    "import copy"
   ]
  },
  {
   "cell_type": "code",
   "execution_count": 3,
   "metadata": {},
   "outputs": [],
   "source": [
    "class MagicMissile:\n",
    "    def __init__(self):\n",
    "        self.time = 'action'\n",
    "        self.type = 'attack'\n",
    "        pass\n",
    "    def cast(self, enemies, ava_spell_slots, *args, **kwargs):\n",
    "        spell_level = 1 + max([i for i,v in enumerate(ava_spell_slots) if v>0])\n",
    "        missle = 2 + spell_level\n",
    "        if not isinstance(enemies, list):\n",
    "            enemies = [enemies] * missle\n",
    "        for enemy in enemies:\n",
    "            damage = random.randint(1, 4) + 1\n",
    "            enemy.hp -= damage\n",
    "        return spell_level"
   ]
  },
  {
   "cell_type": "code",
   "execution_count": 4,
   "metadata": {},
   "outputs": [],
   "source": [
    "class HealingWord:\n",
    "    def __init__(self):\n",
    "        self.time = 'bonus'\n",
    "        self.type = 'heal'\n",
    "        pass\n",
    "    def cast(self, targets, ava_spell_slots, spellcasting_modifier, *args, **kwargs):\n",
    "        spell_level = 1 + max([i for i,v in enumerate(ava_spell_slots) if v>0])\n",
    "        amount_healed = sum([random.randint(1, 4) for _ in range(spell_level)]) + spellcasting_modifier\n",
    "        targets.hp += amount_healed\n",
    "        return spell_level"
   ]
  },
  {
   "cell_type": "code",
   "execution_count": 5,
   "metadata": {},
   "outputs": [],
   "source": [
    "class Damage:\n",
    "    def __init__(self, rolls, flat_bonus):\n",
    "        self.rolls = rolls\n",
    "        self.flat_bonus = flat_bonus\n",
    "    def roll(self):\n",
    "        rolls = sum([random.randint(1, roll) for roll in self.rolls])\n",
    "        return rolls + self.flat_bonus"
   ]
  },
  {
   "cell_type": "code",
   "execution_count": 6,
   "metadata": {},
   "outputs": [],
   "source": [
    "class Attack:\n",
    "    def __init__(self, to_hit, damage):\n",
    "        self.to_hit = to_hit\n",
    "        self.damage = damage\n",
    "    def apply_damage(self, to_hit, damage, enemy):\n",
    "        if to_hit >= enemy.ac:\n",
    "            enemy.hp -= damage\n",
    "        \n",
    "    def roll_hit(self, advantage = False, disadvantage = False, enemy=None):\n",
    "        if advantage and disadvantage:\n",
    "            advantage = disadvantage = False\n",
    "        roll1 = self.to_hit + random.randint(1, 21)\n",
    "        if advantage:\n",
    "            roll2 = self.to_hit + random.randint(1, 21)\n",
    "            self.apply_damage(max(roll1, roll2), self.damage(), enemy)\n",
    "        if disadvantage:\n",
    "            roll2 = self.to_hit + random.randint(1, 21)\n",
    "            self.apply_damage(min(roll1, roll2), self.damage(), enemy)\n",
    "        self.apply_damage(roll1, self.damage.roll(), enemy)"
   ]
  },
  {
   "cell_type": "code",
   "execution_count": 7,
   "metadata": {},
   "outputs": [],
   "source": [
    "class Character:\n",
    "    def __init__(self, hp, ac, attacks, stats, name, spells = [], spell_slots = [], spellcasting_modifier = 0):\n",
    "        self.hp = hp\n",
    "        self.max_hp = hp\n",
    "        self.ac = ac\n",
    "        self.spells = spells\n",
    "        self.spell_slots = spell_slots\n",
    "        self.max_spell_slots = copy.copy(spell_slots)\n",
    "        if not isinstance(attacks, list):\n",
    "            attacks = [attacks]\n",
    "        self.attacks = attacks\n",
    "        self.stats = stats\n",
    "        self.name = name\n",
    "        self.spellcasting_modifier = spellcasting_modifier\n",
    "    def roll_init(self):\n",
    "        return self.stats['dex'] + random.randint(1, 21) + self.stats['dex']/100.\n",
    "    def take_hit(self, to_hit, damage):\n",
    "        if to_hit >= self.ac:\n",
    "            self.hp -= damage"
   ]
  },
  {
   "cell_type": "code",
   "execution_count": 8,
   "metadata": {},
   "outputs": [],
   "source": [
    "fighter = Character(\n",
    "    hp = 13, ac = 18, attacks = Attack(to_hit = 4, damage = Damage(rolls = [6], flat_bonus = 2)), stats = {'dex':-1},\n",
    "    name = 'fighter')\n",
    "cleric = Character(\n",
    "    hp = 10, ac = 18, attacks = Attack(to_hit = 5, damage = Damage(rolls = [8], flat_bonus = 5)), \n",
    "    spells = [set([HealingWord()]), ], spell_slots = [2,], stats = {'dex':-1},\n",
    "    spellcasting_modifier = 5, name = 'cleric')\n",
    "warlock = Character(\n",
    "    hp = 11, ac = 15, attacks = Attack(to_hit = 5, damage = Damage(rolls = [6], flat_bonus = 3)), \n",
    "    stats = {'dex':2},\n",
    "    name = 'warlock')\n",
    "sorcerer = Character(\n",
    "    hp = 9, ac = 15, attacks = Attack(to_hit = 5, damage = Damage(rolls = [10], flat_bonus = 0)),\n",
    "    spells = [set([MagicMissile()]), ], spell_slots = [1,]\n",
    "    , stats = {'dex':2},\n",
    "    name = 'sorcerer')\n",
    "rogue = Character(\n",
    "    hp = 11, ac = 14, attacks = [\n",
    "        Attack(to_hit = 5, damage = Damage(rolls = [6], flat_bonus = 3)),\n",
    "        Attack(to_hit = 5, damage = Damage(rolls = [6], flat_bonus = 0)),\n",
    "    ], stats = {'dex':3}, name = 'rogue')\n",
    "team_PCs = [fighter, cleric, rogue, warlock]\n",
    "# team_NPCs = [fighter2, cleric2, warlock2, rogue2]"
   ]
  },
  {
   "cell_type": "code",
   "execution_count": 9,
   "metadata": {},
   "outputs": [
    {
     "data": {
      "text/plain": [
       "[1]"
      ]
     },
     "execution_count": 9,
     "metadata": {},
     "output_type": "execute_result"
    }
   ],
   "source": [
    "sorcerer.max_spell_slots"
   ]
  },
  {
   "cell_type": "code",
   "execution_count": 10,
   "metadata": {},
   "outputs": [],
   "source": [
    "import numpy as np"
   ]
  },
  {
   "cell_type": "code",
   "execution_count": 11,
   "metadata": {},
   "outputs": [],
   "source": [
    "def roll_init(x):\n",
    "    init = [xi.roll_init() for xi in x]\n",
    "    order = np.argsort(init)\n",
    "    init_order = [x[i] for i in order[::-1]]\n",
    "    return init_order\n",
    "    "
   ]
  },
  {
   "cell_type": "code",
   "execution_count": 12,
   "metadata": {},
   "outputs": [],
   "source": [
    "def check_death(state):\n",
    "    for char_group, return_val in [['npcs', 0], ['pcs', 1]]:\n",
    "        alive = [c for c in state[char_group] if c.hp > 0]\n",
    "        if len(alive) == 0:\n",
    "            return return_val\n",
    "    return -1"
   ]
  },
  {
   "cell_type": "code",
   "execution_count": 13,
   "metadata": {},
   "outputs": [],
   "source": [
    "def check_heal(time, state, c):\n",
    "    available_spells = possible_spells(c, time, 'heal')\n",
    "    ally = get_target(c, state, 'ally', 'dead')\n",
    "    if len(available_spells) == 0 or ally == -1:\n",
    "        return -1\n",
    "    spell = available_spells[0]\n",
    "    slot = spell.cast(ally, c.spell_slots, c.spellcasting_modifier)\n",
    "    return slot"
   ]
  },
  {
   "cell_type": "code",
   "execution_count": 14,
   "metadata": {},
   "outputs": [],
   "source": [
    "def possible_spells(c, time, spell_type):\n",
    "    available_spells = [spells for spells, slots in zip(c.spells, c.spell_slots) if slots > 0]\n",
    "\n",
    "    available_spells = list(itertools.chain(*available_spells))\n",
    "    available_spells = [spell for spell in available_spells if spell.time == time and spell.type == spell_type]\n",
    "    \n",
    "    return available_spells"
   ]
  },
  {
   "cell_type": "code",
   "execution_count": 15,
   "metadata": {},
   "outputs": [],
   "source": [
    "def get_available_targets(characters, target_hps):\n",
    "    if target_hps == 'dead':\n",
    "        return [c for c in characters if c.hp == 0]\n",
    "    if target_hps == 'alive':\n",
    "        return [c for c in characters if c.hp >= 1]\n",
    "    return characters"
   ]
  },
  {
   "cell_type": "code",
   "execution_count": 16,
   "metadata": {},
   "outputs": [],
   "source": [
    "def get_target(character, state, target_type = 'enemy', target_hps = None):\n",
    "    if target_type == 'enemy':\n",
    "        target_hps = 'alive'\n",
    "    if bool(character in state['pcs']) ^ bool(target_type == 'ally'):\n",
    "        targets = get_available_targets(state['npcs'], target_hps)\n",
    "    else:\n",
    "        targets = get_available_targets(state['pcs'], target_hps)\n",
    "    if len(targets) > 0:\n",
    "        return targets[0]\n",
    "    else:\n",
    "        return -1\n"
   ]
  },
  {
   "cell_type": "code",
   "execution_count": 17,
   "metadata": {},
   "outputs": [],
   "source": [
    "def combat(pcs, npcs, strategy = None):\n",
    "    all_characters = pcs + npcs\n",
    "    state = {'pcs': pcs, 'npcs': npcs}\n",
    "    initiative = roll_init(all_characters)\n",
    "    [setattr(c, 'hp', c.max_hp) for c in initiative]\n",
    "    [setattr(c, 'spell_slots', c.max_spell_slots) for c in initiative]\n",
    "    last_attacked = -1\n",
    "    for _ in range(100):\n",
    "        for character in initiative:\n",
    "            if (character.hp <= 0):\n",
    "                continue\n",
    "            c = character\n",
    "            if (strategy == 'last'):\n",
    "                if (last_attacked == -1 or last_attacked.hp < 0):\n",
    "                    enemy = get_target(c, state, 'enemy', last_attacked)\n",
    "                else:\n",
    "                    enemy = last_attacked\n",
    "            else:\n",
    "                enemy = get_target(c, state, 'enemy')\n",
    "            spells_available = possible_spells(c, 'action', 'attack')\n",
    "            if len(spells_available) > 0:\n",
    "                to_cast = spells_available[0]\n",
    "                slot_used = to_cast.cast(enemy, c.spell_slots, c.spellcasting_modifier)\n",
    "                c.spell_slots[slot_used-1] = c.spell_slots[slot_used-1]-1\n",
    "            else:\n",
    "                for attack in character.attacks:\n",
    "                    attack.roll_hit(enemy = enemy)\n",
    "                    end_val = check_death(state)\n",
    "                    if end_val >= 0:\n",
    "                        return end_val\n",
    "            end_val = check_death(state)\n",
    "            if end_val >= 0:\n",
    "                return end_val\n",
    "            slot_used = check_heal('bonus', state, c)\n",
    "            if (slot_used != -1):\n",
    "                c.spell_slots[slot_used-1] = c.spell_slots[slot_used-1]-1\n",
    "    return -1"
   ]
  },
  {
   "cell_type": "code",
   "execution_count": 18,
   "metadata": {},
   "outputs": [],
   "source": [
    "# sum([combat(team_PCs, team_NPCs) for _ in range(100)])/100"
   ]
  },
  {
   "cell_type": "code",
   "execution_count": 19,
   "metadata": {},
   "outputs": [],
   "source": [
    "import copy"
   ]
  },
  {
   "cell_type": "code",
   "execution_count": 20,
   "metadata": {},
   "outputs": [],
   "source": [
    "\n",
    "team_PCs = [fighter, cleric, rogue, warlock]\n",
    "# team_NPCs = [fighter2, cleric2, warlock2, rogue2]"
   ]
  },
  {
   "cell_type": "code",
   "execution_count": 21,
   "metadata": {},
   "outputs": [
    {
     "name": "stdout",
     "output_type": "stream",
     "text": [
      "Automatic pdb calling has been turned ON\n"
     ]
    }
   ],
   "source": [
    "pdb"
   ]
  },
  {
   "cell_type": "code",
   "execution_count": 31,
   "metadata": {},
   "outputs": [
    {
     "name": "stdout",
     "output_type": "stream",
     "text": [
      "0.98\n"
     ]
    },
    {
     "data": {
      "text/plain": [
       "0.94"
      ]
     },
     "execution_count": 31,
     "metadata": {},
     "output_type": "execute_result"
    }
   ],
   "source": [
    "cleric_team = [copy.deepcopy(cleric) for _ in range(4)]\n",
    "rogue_team = [copy.deepcopy(rogue) for _ in range(4)]\n",
    "sorc_team = [copy.deepcopy(sorcerer) for _ in range(4)]\n",
    "warlock_team = [copy.deepcopy(warlock) for _ in range(4)]\n",
    "fighter_team = [copy.deepcopy(fighter) for _ in range(4)]\n",
    "# \"0.97\" means team 1 wins 97% of the team against team 2\n",
    "print(sum([combat(sorc_team, cleric_team, 'last') for _ in range(100)])/100)\n",
    "# combat(cleric_team, sorc_team)\n",
    "sum([combat(sorc_team, rogue_team) for _ in range(100)])/100"
   ]
  },
  {
   "cell_type": "code",
   "execution_count": 23,
   "metadata": {},
   "outputs": [
    {
     "data": {
      "text/plain": [
       "[1]"
      ]
     },
     "execution_count": 23,
     "metadata": {},
     "output_type": "execute_result"
    }
   ],
   "source": [
    "sorc_team[0].max_spell_slots"
   ]
  },
  {
   "cell_type": "code",
   "execution_count": null,
   "metadata": {},
   "outputs": [],
   "source": []
  },
  {
   "cell_type": "code",
   "execution_count": null,
   "metadata": {},
   "outputs": [],
   "source": []
  },
  {
   "cell_type": "code",
   "execution_count": null,
   "metadata": {},
   "outputs": [],
   "source": []
  },
  {
   "cell_type": "code",
   "execution_count": null,
   "metadata": {},
   "outputs": [],
   "source": []
  }
 ],
 "metadata": {
  "kernelspec": {
   "display_name": "Python 3",
   "language": "python",
   "name": "python3"
  },
  "language_info": {
   "codemirror_mode": {
    "name": "ipython",
    "version": 3
   },
   "file_extension": ".py",
   "mimetype": "text/x-python",
   "name": "python",
   "nbconvert_exporter": "python",
   "pygments_lexer": "ipython3",
   "version": "3.9.2"
  }
 },
 "nbformat": 4,
 "nbformat_minor": 4
}
