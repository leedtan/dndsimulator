{
 "cells": [
  {
   "cell_type": "code",
   "execution_count": 1,
   "metadata": {},
   "outputs": [],
   "source": [
    "import random\n",
    "import itertools\n",
    "import copy\n",
    "import numpy as np\n",
    "from dice import Dice"
   ]
  },
  {
   "cell_type": "code",
   "execution_count": 2,
   "metadata": {},
   "outputs": [],
   "source": [
    "d4 = Dice(4)\n",
    "d6 = Dice(6)\n",
    "d8 = Dice(8)\n",
    "d10 = Dice(10)\n",
    "d12 = Dice(12)\n",
    "d20 = Dice(20)\n",
    "d100 = Dice(100)"
   ]
  },
  {
   "cell_type": "code",
   "execution_count": 3,
   "metadata": {},
   "outputs": [],
   "source": [
    "class Damage:\n",
    "    def __init__(self, rolls, flat_bonus):\n",
    "        self.rolls = rolls\n",
    "        self.flat_bonus = flat_bonus\n",
    "    def roll(self):\n",
    "        rolls = sum([random.randint(1, roll) for roll in self.rolls])\n",
    "        return rolls + self.flat_bonus"
   ]
  },
  {
   "cell_type": "code",
   "execution_count": 4,
   "metadata": {},
   "outputs": [],
   "source": [
    "class Attack:\n",
    "    def __init__(self, to_hit, damage):\n",
    "        self.to_hit = to_hit\n",
    "        self.damage = damage\n",
    "    def apply_damage(self, to_hit, damage, enemy):\n",
    "        if to_hit >= enemy.ac:\n",
    "            enemy.hp -= damage\n",
    "        \n",
    "    def roll_hit(self, advantage = False, disadvantage = False, enemy=None):\n",
    "        if advantage and disadvantage:\n",
    "            advantage = disadvantage = False\n",
    "        roll1 = self.to_hit + d20.roll()\n",
    "        if advantage:\n",
    "            roll2 = self.to_hit + d20.roll()\n",
    "            self.apply_damage(max(roll1, roll2), self.damage.roll(), enemy)\n",
    "        elif disadvantage:\n",
    "            roll2 = self.to_hit + d20.roll()\n",
    "            self.apply_damage(min(roll1, roll2), self.damage.roll(), enemy)\n",
    "        else:\n",
    "            self.apply_damage(roll1, self.damage.roll(), enemy)"
   ]
  },
  {
   "cell_type": "code",
   "execution_count": 5,
   "metadata": {},
   "outputs": [],
   "source": [
    "class Character:\n",
    "    def __init__(self, hp, ac, attacks, stats, name, spells = [], spell_slots = [], spellcasting_modifier = 0,\n",
    "                imposes_disadv = False, has_adv = False, resistance = None, \n",
    "                 once_per_long_rest = [], long_rest_uses = [], party = True):\n",
    "        self.party = party\n",
    "        self.imposes_disadv, self.has_adv = imposes_disadv, has_adv\n",
    "        self._hp = hp\n",
    "        self.max_hp = hp\n",
    "        self.ac = ac\n",
    "        self.spells = spells\n",
    "        self.spell_slots = spell_slots\n",
    "        self.max_spell_slots = copy.copy(spell_slots)\n",
    "        if not isinstance(attacks, list):\n",
    "            attacks = [attacks]\n",
    "        self.attacks = attacks\n",
    "        self.stats = stats\n",
    "        self.name = name\n",
    "        self.spellcasting_modifier = spellcasting_modifier\n",
    "        self.resistance = resistance\n",
    "        self.once_per_long_rest = once_per_long_rest\n",
    "        self.long_rest_uses = long_rest_uses\n",
    "        self.long_rest_uses_max = copy.copy(long_rest_uses)\n",
    "        self.reach = 1\n",
    "        self.movespeed = 6\n",
    "        self.charge = True\n",
    "    def roll_init(self):\n",
    "        return self.stats['dex'] + d20.roll() + self.stats['dex']/100.\n",
    "    \n",
    "    @property\n",
    "    def hp(self):\n",
    "        return self._hp\n",
    "    \n",
    "    @hp.setter\n",
    "    def hp(self, hp):\n",
    "        if hp > self._hp or not self.resistance == 'all':\n",
    "            self._hp = hp\n",
    "        else:\n",
    "            self._hp = (self._hp + hp) // 2"
   ]
  },
  {
   "cell_type": "code",
   "execution_count": 6,
   "metadata": {},
   "outputs": [],
   "source": [
    "from classes import classes"
   ]
  },
  {
   "cell_type": "code",
   "execution_count": 7,
   "metadata": {},
   "outputs": [],
   "source": [
    "class HealingWord:\n",
    "    def __init__(self):\n",
    "        self.time = 'bonus'\n",
    "        self.type = 'heal'\n",
    "        pass\n",
    "    def cast(self, targets, ava_spell_slots, spellcasting_modifier, *args, **kwargs):\n",
    "        spell_level = 1 + max([i for i,v in enumerate(ava_spell_slots) if v>0])\n",
    "        amount_healed = sum([d4.roll() for _ in range(spell_level)]) + spellcasting_modifier\n",
    "        life_cleric = True\n",
    "        if life_cleric:\n",
    "            amount_healed += 2 + spell_level\n",
    "        targets.hp += amount_healed\n",
    "        return spell_level"
   ]
  },
  {
   "cell_type": "code",
   "execution_count": 8,
   "metadata": {},
   "outputs": [],
   "source": [
    "class MagicMissile:\n",
    "    def __init__(self):\n",
    "        self.time = 'action'\n",
    "        self.type = 'attack'\n",
    "        pass\n",
    "    def cast(self, enemies, ava_spell_slots, *args, **kwargs):\n",
    "        spell_level = 1 + max([i for i,v in enumerate(ava_spell_slots) if v>0])\n",
    "        missle = 2 + spell_level\n",
    "        if not isinstance(enemies, list):\n",
    "            enemies = [enemies] * missle\n",
    "        for enemy in enemies:\n",
    "            damage = d4.roll() + 1\n",
    "            enemy.hp -= damage\n",
    "        return spell_level"
   ]
  },
  {
   "cell_type": "code",
   "execution_count": 9,
   "metadata": {},
   "outputs": [],
   "source": [
    "class PreserveLife:\n",
    "    def __init__(self):\n",
    "        self.time = 'action'\n",
    "        pass\n",
    "    def check_cast(self, allies, enemies):\n",
    "        num_dead = len([ally for ally in allies if ally.hp == 0])\n",
    "        return len(num_dead >= 2)\n",
    "    def cast(self, allies, enemies):\n",
    "        targets = [ally for ally in allies if ally.hp == 0]\n",
    "        num_targets = len(targets)\n",
    "        amount_heal = 15 // num_targets\n",
    "        for target in targets:\n",
    "            target.hp += amount_healed\n",
    "        return True"
   ]
  },
  {
   "cell_type": "code",
   "execution_count": 10,
   "metadata": {},
   "outputs": [],
   "source": [
    "umberhulk = Character(\n",
    "    hp = 93, ac = 18, attacks = [\n",
    "        Attack(to_hit = 8, damage = Damage(rolls = [8], flat_bonus = 5)),\n",
    "        Attack(to_hit = 8, damage = Damage(rolls = [8, 8], flat_bonus = 5))],\n",
    "    stats = {'dex':-1},\n",
    "    name = 'umberhulk',\n",
    "    imposes_disadv = True,\n",
    "    has_adv = True)\n",
    "goblin = Character(\n",
    "    hp = 10, ac = 8, attacks = [\n",
    "        Attack(to_hit = 2, damage = Damage(rolls = [4], flat_bonus = 2))],\n",
    "    stats = {'dex':-1},\n",
    "    name = 'goblin')\n",
    "fighter = Character(\n",
    "    hp = 13, ac = 18, attacks = Attack(to_hit = 4, damage = Damage(rolls = [6], flat_bonus = 2)), stats = {'dex':-1},\n",
    "    name = 'fighter')\n",
    "barbarian3 = Character(\n",
    "    hp = 36, ac = 16, attacks = Attack(to_hit = 5, damage = Damage(rolls = [12], flat_bonus = 3)), stats = {'dex':2},\n",
    "    name = 'barbarian3',\n",
    "    resistance = 'all',\n",
    "    )\n",
    "cleric = Character(\n",
    "    hp = 10, ac = 18, attacks = Attack(to_hit = 5, damage = Damage(rolls = [8], flat_bonus = 5)), \n",
    "    spells = [set([HealingWord()]), ], spell_slots = [2,], stats = {'dex':-1},\n",
    "    spellcasting_modifier = 5, name = 'cleric', once_per_long_rest = [PreserveLife()])\n",
    "cleric3 = Character(\n",
    "    hp = 27, ac = 18, attacks = Attack(to_hit = 5, damage = Damage(rolls = [8], flat_bonus = 5)), \n",
    "    spells = [set([HealingWord()]), set([HealingWord()])], spell_slots = [4,2], stats = {'dex':-1},\n",
    "    spellcasting_modifier = 5, name = 'cleric3', once_per_long_rest = [PreserveLife()])\n",
    "warlock = Character(\n",
    "    hp = 11, ac = 15, attacks = Attack(to_hit = 5, damage = Damage(rolls = [6], flat_bonus = 3)), \n",
    "    stats = {'dex':2},\n",
    "    name = 'warlock')\n",
    "sorcerer = Character(\n",
    "    hp = 9, ac = 15, attacks = Attack(to_hit = 5, damage = Damage(rolls = [10], flat_bonus = 0)),\n",
    "    spells = [set([MagicMissile()]), ], spell_slots = [1,]\n",
    "    , stats = {'dex':2},\n",
    "    name = 'sorcerer')\n",
    "sorcerer3 = Character(\n",
    "    hp = 23, ac = 15, attacks = Attack(to_hit = 5, damage = Damage(rolls = [10], flat_bonus = 0)),\n",
    "    spells = [set([MagicMissile()]), set([MagicMissile()])], spell_slots = [3,2,]\n",
    "    , stats = {'dex':2},\n",
    "    name = 'sorcerer3')\n",
    "rogue = Character(\n",
    "    hp = 11, ac = 14, attacks = [\n",
    "        Attack(to_hit = 5, damage = Damage(rolls = [6], flat_bonus = 3)),\n",
    "        Attack(to_hit = 5, damage = Damage(rolls = [6], flat_bonus = 0)),\n",
    "    ], stats = {'dex':3}, name = 'rogue')\n",
    "team_PCs = [fighter, cleric, rogue, warlock]\n",
    "# team_NPCs = [fighter2, cleric2, warlock2, rogue2]"
   ]
  },
  {
   "cell_type": "code",
   "execution_count": 11,
   "metadata": {},
   "outputs": [
    {
     "data": {
      "text/plain": [
       "[1]"
      ]
     },
     "execution_count": 11,
     "metadata": {},
     "output_type": "execute_result"
    }
   ],
   "source": [
    "sorcerer.max_spell_slots"
   ]
  },
  {
   "cell_type": "code",
   "execution_count": 12,
   "metadata": {},
   "outputs": [
    {
     "data": {
      "text/plain": [
       "[1]"
      ]
     },
     "execution_count": 12,
     "metadata": {},
     "output_type": "execute_result"
    }
   ],
   "source": [
    "sorcerer.spell_slots"
   ]
  },
  {
   "cell_type": "code",
   "execution_count": 13,
   "metadata": {},
   "outputs": [],
   "source": [
    "sorcerer.spell_slots[0] = 5"
   ]
  },
  {
   "cell_type": "code",
   "execution_count": 14,
   "metadata": {},
   "outputs": [
    {
     "data": {
      "text/plain": [
       "False"
      ]
     },
     "execution_count": 14,
     "metadata": {},
     "output_type": "execute_result"
    }
   ],
   "source": [
    "sorcerer.max_spell_slots == sorcerer.spell_slots"
   ]
  },
  {
   "cell_type": "code",
   "execution_count": 15,
   "metadata": {},
   "outputs": [
    {
     "data": {
      "text/plain": [
       "[1]"
      ]
     },
     "execution_count": 15,
     "metadata": {},
     "output_type": "execute_result"
    }
   ],
   "source": [
    "sorcerer.max_spell_slots"
   ]
  },
  {
   "cell_type": "code",
   "execution_count": 16,
   "metadata": {},
   "outputs": [],
   "source": [
    "def roll_init(x):\n",
    "    init = [xi.roll_init() for xi in x]\n",
    "    order = np.argsort(init)\n",
    "    init_order = [x[i] for i in order[::-1]]\n",
    "    return init_order\n",
    "    "
   ]
  },
  {
   "cell_type": "code",
   "execution_count": 17,
   "metadata": {},
   "outputs": [],
   "source": [
    "def check_death(state):\n",
    "    for char_group, return_val in [['pcs', 0], ['npcs', 1]]:\n",
    "        alive = [c for c in state[char_group] if c.hp > 0]\n",
    "        if len(alive) == 0:\n",
    "            return return_val\n",
    "    return -1"
   ]
  },
  {
   "cell_type": "code",
   "execution_count": 18,
   "metadata": {},
   "outputs": [],
   "source": [
    "def check_heal(time, state, c):\n",
    "    available_spells = possible_spells(c, time, 'heal')\n",
    "    ally = get_target(c, state, 'ally', 'dead')\n",
    "    if len(available_spells) == 0 or ally == -1:\n",
    "        return -1\n",
    "    spell = available_spells[0]\n",
    "    slot = spell.cast(ally, c.spell_slots, c.spellcasting_modifier)\n",
    "    return slot"
   ]
  },
  {
   "cell_type": "code",
   "execution_count": 19,
   "metadata": {},
   "outputs": [],
   "source": [
    "def possible_spells(c, time, spell_type):\n",
    "    available_spells = [spells for spells, slots in zip(c.spells, c.spell_slots) if slots > 0]\n",
    "\n",
    "    available_spells = list(itertools.chain(*available_spells))\n",
    "    available_spells = [spell for spell in available_spells if spell.time == time and spell.type == spell_type]\n",
    "    \n",
    "    return available_spells"
   ]
  },
  {
   "cell_type": "code",
   "execution_count": 20,
   "metadata": {},
   "outputs": [],
   "source": [
    "def get_available_targets(characters, target_hps):\n",
    "    if target_hps == 'dead':\n",
    "        return [c for c in characters if c.hp == 0]\n",
    "    if target_hps == 'alive':\n",
    "        return [c for c in characters if c.hp >= 1]\n",
    "    return characters"
   ]
  },
  {
   "cell_type": "code",
   "execution_count": 21,
   "metadata": {},
   "outputs": [],
   "source": [
    "def get_target(character, state, target_type = 'enemy', target_hps = None):\n",
    "    if target_type == 'enemy':\n",
    "        target_hps = 'alive'\n",
    "    if bool(character in state['pcs']) ^ bool(target_type == 'ally'):\n",
    "        targets = get_available_targets(state['npcs'], target_hps)\n",
    "    else:\n",
    "        targets = get_available_targets(state['pcs'], target_hps)\n",
    "    if len(targets) > 0:\n",
    "        return targets[0]\n",
    "    else:\n",
    "        return -1\n"
   ]
  },
  {
   "cell_type": "code",
   "execution_count": 22,
   "metadata": {},
   "outputs": [],
   "source": [
    "def combat(pcs, npcs, table):\n",
    "    for i, pc in enumerate(pcs):\n",
    "        table[i+10, -1] = pc\n",
    "        pc.loc = np.array([i+10, -1])\n",
    "#         print(pc.loc)\n",
    "    for i, npc in enumerate(npcs):\n",
    "        table[i+10, 0] = npc\n",
    "        npc.loc = np.array([i+10, 0])\n",
    "#         print(npc.loc)\n",
    "        npc.party = False\n",
    "    all_characters = pcs + npcs\n",
    "    state = {'pcs': pcs, 'npcs': npcs}\n",
    "    initiative = roll_init(all_characters)\n",
    "#     [setattr(c, 'hp', c.max_hp) for c in initiative]\n",
    "#     [setattr(c, 'spell_slots', copy.copy(c.max_spell_slots)) for c in initiative]\n",
    "#     [setattr(c, 'long_rest_uses', copy.copy(c.long_rest_uses_max)) for c in initiative]\n",
    "    last_attacked = -1\n",
    "    for _ in range(100):\n",
    "        for character in initiative:\n",
    "            if (character.hp <= 0):\n",
    "                continue\n",
    "            loc = character.loc\n",
    "            c = character\n",
    "            if character.party:\n",
    "                enemies = npcs\n",
    "            else:\n",
    "                enemies = pcs\n",
    "            if character.charge:\n",
    "                closest_enemy = enemies[0]\n",
    "                distance = 10000\n",
    "                for enemy in enemies:\n",
    "                    if enemy.hp > 0:\n",
    "                        this_dist = abs(enemy.loc[0] - loc[0]) + abs(enemy.loc[1] - loc[1])\n",
    "                        if this_dist < distance:\n",
    "                            distance = this_dist\n",
    "                            closest_enemy = enemy\n",
    "                moved = 0\n",
    "                while moved < c.movespeed and closest_enemy.loc[0] > character.loc[0]:\n",
    "                    moved += 1\n",
    "                    character.loc[0] += 1\n",
    "                while moved < c.movespeed and abs(closest_enemy.loc[1] - character.loc[1]):\n",
    "                    moved += 1\n",
    "                    direction = (closest_enemy.loc[1] > character.loc[1]) * 2 - 1\n",
    "                    character.loc[1] += direction\n",
    "                table[character.loc[0], character.loc[1]] = character\n",
    "                enemy = closest_enemy\n",
    "            atk_distance = max(abs(enemy.loc[0] - character.loc[0]),\n",
    "                               abs(enemy.loc[1] - character.loc[1]))\n",
    "            \n",
    "            if atk_distance <= character.reach:\n",
    "                for attack in character.attacks:\n",
    "                    attack.roll_hit(\n",
    "                        enemy = enemy, advantage = c.has_adv, disadvantage = enemy.imposes_disadv)\n",
    "                    end_val = check_death(state)\n",
    "                    if end_val >= 0:\n",
    "                        return end_val\n",
    "            end_val = check_death(state)\n",
    "            if end_val >= 0:\n",
    "                return end_val\n",
    "    return -1\n",
    "            \n",
    "            \n",
    "#             c = character\n",
    "#             if (strategy == 'last'):\n",
    "#                 if (last_attacked == -1 or last_attacked.hp < 0):\n",
    "#                     enemy = get_target(c, state, 'enemy', last_attacked)\n",
    "#                 else:\n",
    "#                     enemy = last_attacked\n",
    "#             else:\n",
    "#                 enemy = get_target(c, state, 'enemy')\n",
    "#             abilities = [ability for ability, uses in zip(c.once_per_long_rest, c.long_rest_uses)\n",
    "#                          if ability.time == 'action' and uses > 0]\n",
    "#             if c in pcs:\n",
    "#                 allies, enemies = pcs, npcs\n",
    "#             else:\n",
    "#                 allies, enemies = npcs, pcs\n",
    "#             if len(abilities) > 0 and abilities[0].check_cast(allies, enemies):\n",
    "#                 abilities[0].cast(allies, enemies)\n",
    "#                 continue\n",
    "#             spells_available = possible_spells(c, 'action', 'attack')\n",
    "#             if len(spells_available) > 0:\n",
    "#                 to_cast = spells_available[0]\n",
    "#                 slot_used = to_cast.cast(enemy, c.spell_slots, c.spellcasting_modifier)\n",
    "#                 c.spell_slots[slot_used-1] = c.spell_slots[slot_used-1]-1\n",
    "#             else:\n",
    "#                 for attack in character.attacks:\n",
    "#                     attack.roll_hit(enemy = enemy, advantage = c.has_adv, disadvantage = enemy.imposes_disadv)\n",
    "#                     end_val = check_death(state)\n",
    "#                     if end_val >= 0:\n",
    "#                         return end_val\n",
    "#             end_val = check_death(state)\n",
    "#             if end_val >= 0:\n",
    "#                 return end_val\n",
    "#             slot_used = check_heal('bonus', state, c)\n",
    "#             if (slot_used != -1):\n",
    "#                 c.spell_slots[slot_used-1] = c.spell_slots[slot_used-1]-1\n",
    "#     return -1"
   ]
  },
  {
   "cell_type": "code",
   "execution_count": 23,
   "metadata": {},
   "outputs": [],
   "source": [
    "# sum([combat(team_PCs, team_NPCs) for _ in range(100)])/100"
   ]
  },
  {
   "cell_type": "code",
   "execution_count": 24,
   "metadata": {},
   "outputs": [],
   "source": [
    "team_PCs = [fighter, cleric, rogue, warlock]\n",
    "# team_NPCs = [fighter2, cleric2, warlock2, rogue2]"
   ]
  },
  {
   "cell_type": "code",
   "execution_count": 25,
   "metadata": {},
   "outputs": [],
   "source": [
    "num_trials = 1000"
   ]
  },
  {
   "cell_type": "code",
   "execution_count": 26,
   "metadata": {},
   "outputs": [],
   "source": [
    "table = np.zeros([100, 100], dtype = object)"
   ]
  },
  {
   "cell_type": "code",
   "execution_count": 62,
   "metadata": {},
   "outputs": [],
   "source": [
    "strongest_team = [copy.copy(c) for c in [fighter, sorcerer, sorcerer, cleric]]\n",
    "bigger_team = [copy.copy(c) for c in [fighter, fighter, sorcerer, cleric, cleric, cleric]]\n",
    "biggest_team = [copy.copy(c) for c in [fighter, fighter, sorcerer, sorcerer, sorcerer, cleric, cleric, cleric]]\n",
    "biggest_team = [copy.copy(c) for c in [fighter] * 2 + [sorcerer] * 6 + [cleric] * 2]\n",
    "lvl_3s = [copy.copy(c) for c in [barbarian3] * 1 + [sorcerer3] * 1 + [cleric3] * 1]"
   ]
  },
  {
   "cell_type": "code",
   "execution_count": 63,
   "metadata": {},
   "outputs": [
    {
     "data": {
      "text/plain": [
       "0.22"
      ]
     },
     "execution_count": 63,
     "metadata": {},
     "output_type": "execute_result"
    }
   ],
   "source": [
    "cleric_team = [copy.deepcopy(cleric) for _ in range(4)]\n",
    "rogue_team = [copy.deepcopy(rogue) for _ in range(4)]\n",
    "sorc_team = [copy.deepcopy(sorcerer) for _ in range(4)]\n",
    "warlock_team = [copy.deepcopy(warlock) for _ in range(4)]\n",
    "fighter_team = [copy.deepcopy(fighter) for _ in range(4)]\n",
    "# \"0.97\" means team 1 wins 97% of the team against team 2\n",
    "# print(sum([combat(sorc_team, cleric_team, 'last') for _ in range(100)])/100)\n",
    "# combat(cleric_team, sorc_team)\n",
    "sum([combat([copy.copy(char) for char in sorc_team], \n",
    "            [copy.copy(char) for char in strongest_team],\n",
    "            table)\n",
    "     for _ in range(num_trials)])/num_trials"
   ]
  },
  {
   "cell_type": "code",
   "execution_count": 74,
   "metadata": {},
   "outputs": [],
   "source": [
    "def gauntlet(party):\n",
    "    stages_completed = 0\n",
    "    table = np.zeros([100, 100], dtype = object)\n",
    "    for enemies in [[copy.copy(goblin)], \n",
    "                    [copy.copy(goblin) for _ in range(10)], \n",
    "                    [copy.copy(umberhulk)], \n",
    "                    [copy.copy(umberhulk), copy.copy(umberhulk)]]:\n",
    "        result = combat([copy.copy(char) for char in party], enemies, table)\n",
    "        if not result:\n",
    "            return stages_completed\n",
    "        stages_completed += 1\n",
    "    return stages_completed"
   ]
  },
  {
   "cell_type": "code",
   "execution_count": 79,
   "metadata": {},
   "outputs": [
    {
     "data": {
      "text/plain": [
       "2"
      ]
     },
     "execution_count": 79,
     "metadata": {},
     "output_type": "execute_result"
    }
   ],
   "source": [
    "gauntlet(sorc_team)"
   ]
  },
  {
   "cell_type": "code",
   "execution_count": 83,
   "metadata": {
    "scrolled": true
   },
   "outputs": [
    {
     "data": {
      "text/plain": [
       "0.0"
      ]
     },
     "execution_count": 83,
     "metadata": {},
     "output_type": "execute_result"
    }
   ],
   "source": [
    "sum([combat(lvl_3s, [umberhulk], table) for _ in range(num_trials)])/num_trials"
   ]
  },
  {
   "cell_type": "code",
   "execution_count": 32,
   "metadata": {},
   "outputs": [
    {
     "data": {
      "text/plain": [
       "0.0"
      ]
     },
     "execution_count": 32,
     "metadata": {},
     "output_type": "execute_result"
    }
   ],
   "source": [
    "sum([combat(lvl_3s, [umberhulk, copy.copy(umberhulk)], table) for _ in range(num_trials)])/num_trials"
   ]
  }
 ],
 "metadata": {
  "kernelspec": {
   "display_name": "Python 3",
   "language": "python",
   "name": "python3"
  },
  "language_info": {
   "codemirror_mode": {
    "name": "ipython",
    "version": 3
   },
   "file_extension": ".py",
   "mimetype": "text/x-python",
   "name": "python",
   "nbconvert_exporter": "python",
   "pygments_lexer": "ipython3",
   "version": "3.7.6"
  }
 },
 "nbformat": 4,
 "nbformat_minor": 4
}
