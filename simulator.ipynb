{
 "cells": [
  {
   "cell_type": "code",
   "execution_count": 1,
   "metadata": {},
   "outputs": [],
   "source": [
    "import random"
   ]
  },
  {
   "cell_type": "code",
   "execution_count": 2,
   "metadata": {},
   "outputs": [],
   "source": [
    "class Damage:\n",
    "    def __init__(self, rolls, flat_bonus):\n",
    "        self.rolls = rolls\n",
    "        self.flat_bonus = flat_bonus\n",
    "    def roll(self):\n",
    "        rolls = sum([random.randint(1, roll) for roll in self.rolls])\n",
    "        return rolls + self.flat_bonus"
   ]
  },
  {
   "cell_type": "code",
   "execution_count": 3,
   "metadata": {},
   "outputs": [],
   "source": [
    "class Attack:\n",
    "    def __init__(self, to_hit, damage):\n",
    "        self.to_hit = to_hit\n",
    "        self.damage = damage\n",
    "    def roll_hit(self, advantage = False, disadvantage = False):\n",
    "        if advantage and disadvantage:\n",
    "            advantage = disadvantage = False\n",
    "        roll1 = self.to_hit + random.randint(1, 21)\n",
    "        if advantage:\n",
    "            roll2 = self.to_hit + random.randint(1, 21)\n",
    "            return max(roll1, roll2), self.damage()\n",
    "        if disadvantage:\n",
    "            roll2 = self.to_hit + random.randint(1, 21)\n",
    "            return min(roll1, roll2), self.damage()\n",
    "        return roll1, self.damage.roll()"
   ]
  },
  {
   "cell_type": "code",
   "execution_count": 4,
   "metadata": {},
   "outputs": [],
   "source": [
    "class Character:\n",
    "    def __init__(self, hp, ac, attacks, stats, name):\n",
    "        self.hp = hp\n",
    "        self.max_hp = hp\n",
    "        self.ac = ac\n",
    "        if not isinstance(attacks, list):\n",
    "            attacks = [attacks]\n",
    "        self.attacks = attacks\n",
    "        self.stats = stats\n",
    "        self.name = name\n",
    "    def roll_init(self):\n",
    "        return self.stats['dex'] + random.randint(1, 21) + self.stats['dex']/100.\n",
    "    def take_hit(self, to_hit, damage):\n",
    "        if to_hit >= self.ac:\n",
    "            self.hp -= damage"
   ]
  },
  {
   "cell_type": "code",
   "execution_count": 29,
   "metadata": {},
   "outputs": [],
   "source": [
    "fighter = Character(\n",
    "    hp = 13, ac = 18, attacks = Attack(to_hit = 4, damage = Damage(rolls = [6], flat_bonus = 2)), stats = {'dex':-1},\n",
    "    name = 'fighter')\n",
    "cleric = Character(\n",
    "    hp = 10, ac = 18, attacks = Attack(to_hit = 5, damage = Damage(rolls = [8], flat_bonus = 5)), stats = {'dex':-1},\n",
    "    name = 'cleric')\n",
    "warlock = Character(\n",
    "    hp = 11, ac = 15, attacks = Attack(to_hit = 5, damage = Damage(rolls = [6], flat_bonus = 3)), stats = {'dex':2},\n",
    "    name = 'warlock')\n",
    "rogue = Character(\n",
    "    hp = 11, ac = 14, attacks = [\n",
    "        Attack(to_hit = 5, damage = Damage(rolls = [6], flat_bonus = 3)),\n",
    "        Attack(to_hit = 5, damage = Damage(rolls = [6], flat_bonus = 0))\n",
    "    ], stats = {'dex':3}, name = 'rogue')\n",
    "fighter2 = Character(\n",
    "    hp = 13, ac = 18, attacks = Attack(to_hit = 4, damage = Damage(rolls = [6], flat_bonus = 2)), stats = {'dex':-1},\n",
    "    name = 'fighter')\n",
    "cleric2 = Character(\n",
    "    hp = 10, ac = 18, attacks = Attack(to_hit = 5, damage = Damage(rolls = [8], flat_bonus = 5)), stats = {'dex':-1},\n",
    "    name = 'cleric')\n",
    "warlock2 = Character(\n",
    "    hp = 11, ac = 15, attacks = Attack(to_hit = 5, damage = Damage(rolls = [6], flat_bonus = 3)), stats = {'dex':2},\n",
    "    name = 'warlock')\n",
    "rogue2 = Character(\n",
    "    hp = 11, ac = 14, attacks = [\n",
    "        Attack(to_hit = 5, damage = Damage(rolls = [6], flat_bonus = 3)),\n",
    "        Attack(to_hit = 5, damage = Damage(rolls = [6], flat_bonus = 0))\n",
    "    ], stats = {'dex':3}, name = 'rogue')\n",
    "\n",
    "team_PCs = [fighter, cleric, rogue, warlock]\n",
    "team_NPCs = [fighter2, cleric2, warlock2, rogue2]"
   ]
  },
  {
   "cell_type": "code",
   "execution_count": 30,
   "metadata": {},
   "outputs": [],
   "source": [
    "import numpy as np"
   ]
  },
  {
   "cell_type": "code",
   "execution_count": 31,
   "metadata": {},
   "outputs": [],
   "source": [
    "def roll_init(x):\n",
    "    init = [xi.roll_init() for xi in x]\n",
    "    order = np.argsort(init)\n",
    "    init_order = [x[i] for i in order[::-1]]\n",
    "    return init_order\n",
    "    "
   ]
  },
  {
   "cell_type": "code",
   "execution_count": 32,
   "metadata": {},
   "outputs": [],
   "source": [
    "def combat(pcs, npcs):\n",
    "    all_characters = pcs + npcs\n",
    "    initiative = roll_init(all_characters)\n",
    "    [setattr(c, 'hp', c.max_hp) for c in initiative]\n",
    "    for _ in range(100):\n",
    "        for character in initiative:\n",
    "            for attack in character.attacks:\n",
    "                attack, dmg = character.attacks[0].roll_hit()\n",
    "                if character in pcs:\n",
    "                    receiver = npcs[0]\n",
    "    #                 print('www')\n",
    "                elif character in npcs:\n",
    "                    receiver = pcs[0]\n",
    "    #                 print('bbb')\n",
    "                else:\n",
    "                    continue\n",
    "                receiver.take_hit(attack, dmg)\n",
    "                npcs = [c for c in npcs if c.hp > 0]\n",
    "                pcs = [c for c in pcs if c.hp > 0]\n",
    "    #             print(len(npcs), len(pcs))\n",
    "                if len(npcs) == 0:\n",
    "                    return 0\n",
    "                if len(pcs) == 0:\n",
    "                    return 1\n",
    "        initiative = [c for c in initiative if c.hp > 0]\n",
    "    return -1"
   ]
  },
  {
   "cell_type": "code",
   "execution_count": 47,
   "metadata": {},
   "outputs": [
    {
     "data": {
      "text/plain": [
       "0.5061"
      ]
     },
     "execution_count": 47,
     "metadata": {},
     "output_type": "execute_result"
    }
   ],
   "source": [
    "sum([combat(team_PCs, team_NPCs) for _ in range(10000)])/10000"
   ]
  },
  {
   "cell_type": "code",
   "execution_count": null,
   "metadata": {},
   "outputs": [],
   "source": []
  },
  {
   "cell_type": "code",
   "execution_count": null,
   "metadata": {},
   "outputs": [],
   "source": []
  },
  {
   "cell_type": "code",
   "execution_count": null,
   "metadata": {},
   "outputs": [],
   "source": []
  },
  {
   "cell_type": "code",
   "execution_count": null,
   "metadata": {},
   "outputs": [],
   "source": []
  },
  {
   "cell_type": "code",
   "execution_count": null,
   "metadata": {},
   "outputs": [],
   "source": []
  },
  {
   "cell_type": "code",
   "execution_count": null,
   "metadata": {},
   "outputs": [],
   "source": []
  }
 ],
 "metadata": {
  "kernelspec": {
   "display_name": "Python 3",
   "language": "python",
   "name": "python3"
  },
  "language_info": {
   "codemirror_mode": {
    "name": "ipython",
    "version": 3
   },
   "file_extension": ".py",
   "mimetype": "text/x-python",
   "name": "python",
   "nbconvert_exporter": "python",
   "pygments_lexer": "ipython3",
   "version": "3.7.6"
  }
 },
 "nbformat": 4,
 "nbformat_minor": 4
}
