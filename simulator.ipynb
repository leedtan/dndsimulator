{
 "cells": [
  {
   "cell_type": "code",
   "execution_count": 1,
   "metadata": {},
   "outputs": [],
   "source": [
    "import random"
   ]
  },
  {
   "cell_type": "code",
   "execution_count": 2,
   "metadata": {},
   "outputs": [],
   "source": [
    "import itertools\n",
    "import copy"
   ]
  },
  {
   "cell_type": "code",
   "execution_count": 3,
   "metadata": {},
   "outputs": [],
   "source": [
    "class MagicMissile:\n",
    "    def __init__(self):\n",
    "        pass\n",
    "    def cast(self, enemies, ava_spell_slots):\n",
    "        spell_level = 1 + max([i for i,v in enumerate(ava_spell_slots) if v>0])\n",
    "        missle = 2 + spell_level\n",
    "        if not isinstance(enemies, list):\n",
    "            enemies = [enemies] * missle\n",
    "        for enemy in enemies:\n",
    "            damage = random.randint(1, 4) + 1\n",
    "            enemy.hp -= damage\n",
    "        return spell_level"
   ]
  },
  {
   "cell_type": "code",
   "execution_count": 4,
   "metadata": {},
   "outputs": [],
   "source": [
    "class Damage:\n",
    "    def __init__(self, rolls, flat_bonus):\n",
    "        self.rolls = rolls\n",
    "        self.flat_bonus = flat_bonus\n",
    "    def roll(self):\n",
    "        rolls = sum([random.randint(1, roll) for roll in self.rolls])\n",
    "        return rolls + self.flat_bonus"
   ]
  },
  {
   "cell_type": "code",
   "execution_count": 5,
   "metadata": {},
   "outputs": [],
   "source": [
    "class Attack:\n",
    "    def __init__(self, to_hit, damage):\n",
    "        self.to_hit = to_hit\n",
    "        self.damage = damage\n",
    "    def apply_damage(self, to_hit, damage, enemy):\n",
    "        if to_hit >= enemy.ac:\n",
    "            enemy.hp -= damage\n",
    "        \n",
    "    def roll_hit(self, advantage = False, disadvantage = False, enemy=None):\n",
    "        if advantage and disadvantage:\n",
    "            advantage = disadvantage = False\n",
    "        roll1 = self.to_hit + random.randint(1, 21)\n",
    "        if advantage:\n",
    "            roll2 = self.to_hit + random.randint(1, 21)\n",
    "            self.apply_damage(max(roll1, roll2), self.damage(), enemy)\n",
    "        if disadvantage:\n",
    "            roll2 = self.to_hit + random.randint(1, 21)\n",
    "            self.apply_damage(min(roll1, roll2), self.damage(), enemy)\n",
    "        self.apply_damage(roll1, self.damage.roll(), enemy)"
   ]
  },
  {
   "cell_type": "code",
   "execution_count": 6,
   "metadata": {},
   "outputs": [],
   "source": [
    "class Character:\n",
    "    def __init__(self, hp, ac, attacks, stats, name, spells = [], spell_slots  = []):\n",
    "        self.hp = hp\n",
    "        self.max_hp = hp\n",
    "        self.ac = ac\n",
    "        self.spells = spells\n",
    "        self.spell_slots = spell_slots\n",
    "        self.max_spell_slots = copy.copy(spell_slots)\n",
    "        if not isinstance(attacks, list):\n",
    "            attacks = [attacks]\n",
    "        self.attacks = attacks\n",
    "        self.stats = stats\n",
    "        self.name = name\n",
    "    def roll_init(self):\n",
    "        return self.stats['dex'] + random.randint(1, 21) + self.stats['dex']/100.\n",
    "    def take_hit(self, to_hit, damage):\n",
    "        if to_hit >= self.ac:\n",
    "            self.hp -= damage"
   ]
  },
  {
   "cell_type": "code",
   "execution_count": 7,
   "metadata": {},
   "outputs": [],
   "source": [
    "fighter = Character(\n",
    "    hp = 13, ac = 18, attacks = Attack(to_hit = 4, damage = Damage(rolls = [6], flat_bonus = 2)), stats = {'dex':-1},\n",
    "    name = 'fighter')\n",
    "cleric = Character(\n",
    "    hp = 10, ac = 18, attacks = Attack(to_hit = 5, damage = Damage(rolls = [8], flat_bonus = 5)), stats = {'dex':-1},\n",
    "    name = 'cleric')\n",
    "warlock = Character(\n",
    "    hp = 11, ac = 15, attacks = Attack(to_hit = 5, damage = Damage(rolls = [6], flat_bonus = 3)), stats = {'dex':2},\n",
    "    name = 'warlock')\n",
    "sorcerer = Character(\n",
    "    hp = 9, ac = 15, attacks = Attack(to_hit = 5, damage = Damage(rolls = [10], flat_bonus = 0)),\n",
    "    spells = [set([MagicMissile()]), ], spell_slots = [1,]\n",
    "    , stats = {'dex':2},\n",
    "    name = 'sorcerer')\n",
    "rogue = Character(\n",
    "    hp = 11, ac = 14, attacks = [\n",
    "        Attack(to_hit = 5, damage = Damage(rolls = [6], flat_bonus = 3)),\n",
    "        Attack(to_hit = 5, damage = Damage(rolls = [6], flat_bonus = 0)),\n",
    "    ], stats = {'dex':3}, name = 'rogue')\n",
    "team_PCs = [fighter, cleric, rogue, warlock]\n",
    "# team_NPCs = [fighter2, cleric2, warlock2, rogue2]"
   ]
  },
  {
   "cell_type": "code",
   "execution_count": 8,
   "metadata": {},
   "outputs": [
    {
     "data": {
      "text/plain": [
       "[1]"
      ]
     },
     "execution_count": 8,
     "metadata": {},
     "output_type": "execute_result"
    }
   ],
   "source": [
    "sorcerer.max_spell_slots"
   ]
  },
  {
   "cell_type": "code",
   "execution_count": 9,
   "metadata": {},
   "outputs": [],
   "source": [
    "import numpy as np"
   ]
  },
  {
   "cell_type": "code",
   "execution_count": 10,
   "metadata": {},
   "outputs": [],
   "source": [
    "def roll_init(x):\n",
    "    init = [xi.roll_init() for xi in x]\n",
    "    order = np.argsort(init)\n",
    "    init_order = [x[i] for i in order[::-1]]\n",
    "    return init_order\n",
    "    "
   ]
  },
  {
   "cell_type": "code",
   "execution_count": 11,
   "metadata": {},
   "outputs": [],
   "source": [
    "import pdb"
   ]
  },
  {
   "cell_type": "code",
   "execution_count": 12,
   "metadata": {},
   "outputs": [],
   "source": [
    "def check_death(state):\n",
    "    for char_group, return_val in [['npcs', 0], ['pcs', 1]]:\n",
    "        state[char_group] = [c for c in state[char_group] if c.hp > 0]\n",
    "        if len(state[char_group]) == 0:\n",
    "            return return_val\n",
    "    return -1"
   ]
  },
  {
   "cell_type": "code",
   "execution_count": 13,
   "metadata": {},
   "outputs": [],
   "source": [
    "def combat(pcs, npcs):\n",
    "    all_characters = pcs + npcs\n",
    "    state = {'pcs': pcs, 'npcs': npcs}\n",
    "    initiative = roll_init(all_characters)\n",
    "    [setattr(c, 'hp', c.max_hp) for c in initiative]\n",
    "    [setattr(c, 'spell_slots', c.max_spell_slots) for c in initiative]\n",
    "    for _ in range(100):\n",
    "        for character in initiative:\n",
    "            start = len(state['pcs']) + len(state['npcs'])\n",
    "            c = character\n",
    "            if character in state['pcs']:\n",
    "                enemy = state['npcs'][0]\n",
    "            elif character in state['npcs']:\n",
    "                enemy = state['pcs'][0]\n",
    "            else:\n",
    "                continue\n",
    "            if sum(c.spell_slots) > 0:\n",
    "                possible_spells = [spells for spells, slots in zip(c.spells, c.spell_slots) if slots > 0]\n",
    "                \n",
    "                spells = list(itertools.chain(*possible_spells))\n",
    "                to_cast = spells[0]\n",
    "                slot_used = to_cast.cast(enemy, c.spell_slots)\n",
    "                c.spell_slots[slot_used-1] = c.spell_slots[slot_used-1]-1\n",
    "               \n",
    "                \n",
    "            else:\n",
    "                for attack in character.attacks:\n",
    "                    attack.roll_hit(enemy = enemy)\n",
    "                    end_val = check_death(state)\n",
    "                    if end_val >= 0:\n",
    "                        return end_val\n",
    "            end_val = check_death(state)\n",
    "            if end_val >= 0:\n",
    "                return end_val\n",
    "        initiative = [c for c in initiative if c.hp > 0]\n",
    "    return -1"
   ]
  },
  {
   "cell_type": "code",
   "execution_count": 14,
   "metadata": {},
   "outputs": [],
   "source": [
    "# sum([combat(team_PCs, team_NPCs) for _ in range(100)])/100"
   ]
  },
  {
   "cell_type": "code",
   "execution_count": 15,
   "metadata": {},
   "outputs": [],
   "source": [
    "import copy"
   ]
  },
  {
   "cell_type": "code",
   "execution_count": 16,
   "metadata": {},
   "outputs": [],
   "source": [
    "\n",
    "team_PCs = [fighter, cleric, rogue, warlock]\n",
    "# team_NPCs = [fighter2, cleric2, warlock2, rogue2]"
   ]
  },
  {
   "cell_type": "code",
   "execution_count": 19,
   "metadata": {},
   "outputs": [
    {
     "name": "stdout",
     "output_type": "stream",
     "text": [
      "[1]\n",
      "[1]\n",
      "[0] after\n",
      "i cast it\n",
      "[1]\n",
      "[1]\n",
      "[0] after\n",
      "i cast it\n",
      "[1]\n",
      "[1]\n",
      "[0] after\n",
      "i cast it\n",
      "[1]\n",
      "[0]\n",
      "[0]\n",
      "[0]\n",
      "[0]\n"
     ]
    },
    {
     "data": {
      "text/plain": [
       "0.0"
      ]
     },
     "execution_count": 19,
     "metadata": {},
     "output_type": "execute_result"
    }
   ],
   "source": [
    "cleric_team = [copy.deepcopy(cleric) for _ in range(4)]\n",
    "rogue_team = [copy.deepcopy(rogue) for _ in range(4)]\n",
    "sorc_team = [copy.deepcopy(sorcerer) for _ in range(4)]\n",
    "\n",
    "sum([combat(cleric_team, sorc_team) for _ in range(1)])/100"
   ]
  },
  {
   "cell_type": "code",
   "execution_count": 18,
   "metadata": {},
   "outputs": [
    {
     "data": {
      "text/plain": [
       "[1]"
      ]
     },
     "execution_count": 18,
     "metadata": {},
     "output_type": "execute_result"
    }
   ],
   "source": [
    "sorc_team[0].max_spell_slots"
   ]
  },
  {
   "cell_type": "code",
   "execution_count": null,
   "metadata": {},
   "outputs": [],
   "source": []
  },
  {
   "cell_type": "code",
   "execution_count": null,
   "metadata": {},
   "outputs": [],
   "source": []
  },
  {
   "cell_type": "code",
   "execution_count": null,
   "metadata": {},
   "outputs": [],
   "source": []
  },
  {
   "cell_type": "code",
   "execution_count": null,
   "metadata": {},
   "outputs": [],
   "source": []
  }
 ],
 "metadata": {
  "kernelspec": {
   "display_name": "Python 3",
   "language": "python",
   "name": "python3"
  },
  "language_info": {
   "codemirror_mode": {
    "name": "ipython",
    "version": 3
   },
   "file_extension": ".py",
   "mimetype": "text/x-python",
   "name": "python",
   "nbconvert_exporter": "python",
   "pygments_lexer": "ipython3",
   "version": "3.7.7"
  }
 },
 "nbformat": 4,
 "nbformat_minor": 4
}
