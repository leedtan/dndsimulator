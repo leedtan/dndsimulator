{
 "cells": [
  {
   "cell_type": "code",
   "execution_count": 1,
   "metadata": {},
   "outputs": [],
   "source": [
    "import random"
   ]
  },
  {
   "cell_type": "code",
   "execution_count": 2,
   "metadata": {},
   "outputs": [],
   "source": [
    "class Damage:\n",
    "    def __init__(self, rolls, flat_bonus):\n",
    "        self.rolls = rolls\n",
    "        self.flat_bonus = flat_bonus\n",
    "    def roll(self):\n",
    "        rolls = sum([random.randint(1, roll) for roll in self.rolls])\n",
    "        return rolls + self.flat_bonus"
   ]
  },
  {
   "cell_type": "code",
   "execution_count": 3,
   "metadata": {},
   "outputs": [],
   "source": [
    "class Attack:\n",
    "    def __init__(self, to_hit, damage):\n",
    "        self.to_hit = to_hit\n",
    "        self.damage = damage\n",
    "    def roll_hit(advantage = False, disadvantage = False):\n",
    "        if advantage and disadvantage:\n",
    "            advantage = disadvantage = False\n",
    "        roll1 = self.to_hit + random.randint(1, 21)\n",
    "        if advantage:\n",
    "            roll2 = self.to_hit + random.randint(1, 21)\n",
    "            return max(roll1, roll2), self.damage()\n",
    "        if disadvantage:\n",
    "            roll2 = self.to_hit + random.randint(1, 21)\n",
    "            return min(roll1, roll2), self.damage()\n",
    "        "
   ]
  },
  {
   "cell_type": "code",
   "execution_count": 4,
   "metadata": {},
   "outputs": [],
   "source": [
    "class Character:\n",
    "    def __init__(self, hp, ac, attacks, stats, name):\n",
    "        self.hp = hp\n",
    "        self.max_hp = hp\n",
    "        self.ac = ac\n",
    "        self.attacks = attacks\n",
    "        self.stats = stats\n",
    "        self.name = name\n",
    "    def roll_init(self):\n",
    "        return self.stats['dex'] + random.randint(1, 21) + self.stats['dex']/100."
   ]
  },
  {
   "cell_type": "code",
   "execution_count": 5,
   "metadata": {},
   "outputs": [],
   "source": [
    "fighter = Character(\n",
    "    hp = 13, ac = 18, attacks = Attack(to_hit = 4, damage = Damage(rolls = [6], flat_bonus = 2)), stats = {'dex':-1},\n",
    "    name = 'fighter')\n",
    "cleric = Character(\n",
    "    hp = 10, ac = 18, attacks = Attack(to_hit = 5, damage = Damage(rolls = [8], flat_bonus = 5)), stats = {'dex':-1},\n",
    "    name = 'cleric')\n",
    "warlock = Character(\n",
    "    hp = 11, ac = 15, attacks = Attack(to_hit = 5, damage = Damage(rolls = [6], flat_bonus = 3)), stats = {'dex':2},\n",
    "    name = 'warlock')\n",
    "rogue = Character(\n",
    "    hp = 11, ac = 14, attacks = [\n",
    "        Attack(to_hit = 5, damage = Damage(rolls = [6], flat_bonus = 3)),\n",
    "        Attack(to_hit = 5, damage = Damage(rolls = [6], flat_bonus = 0))\n",
    "    ], stats = {'dex':3}, name = 'rogue')\n",
    "\n",
    "team_PCs = [fighter, cleric, warlock, rogue]\n",
    "team_NPCs = [fighter, cleric, warlock, rogue]"
   ]
  },
  {
   "cell_type": "code",
   "execution_count": 6,
   "metadata": {},
   "outputs": [],
   "source": [
    "import numpy as np"
   ]
  },
  {
   "cell_type": "code",
   "execution_count": 7,
   "metadata": {},
   "outputs": [],
   "source": [
    "def roll_init(x):\n",
    "    init = [xi.roll_init() for xi in x]\n",
    "    order = np.argsort(init)\n",
    "    init_order = [x[i].name for i in order[::-1]]\n",
    "    return init_order\n",
    "    "
   ]
  },
  {
   "cell_type": "code",
   "execution_count": 8,
   "metadata": {
    "scrolled": true
   },
   "outputs": [
    {
     "data": {
      "text/plain": [
       "['warlock', 'rogue', 'fighter', 'cleric']"
      ]
     },
     "execution_count": 8,
     "metadata": {},
     "output_type": "execute_result"
    }
   ],
   "source": [
    "order = roll_init(team_PCs)\n",
    "order"
   ]
  },
  {
   "cell_type": "code",
   "execution_count": 9,
   "metadata": {},
   "outputs": [],
   "source": [
    "def combat(pcs, npcs):\n",
    "    all_characters = pcs + npcs\n",
    "    initiative = roll_init(all_characters)"
   ]
  },
  {
   "cell_type": "code",
   "execution_count": 10,
   "metadata": {},
   "outputs": [],
   "source": [
    "combat(team_PCs, team_NPCs)"
   ]
  },
  {
   "cell_type": "code",
   "execution_count": null,
   "metadata": {},
   "outputs": [],
   "source": []
  }
 ],
 "metadata": {
  "kernelspec": {
   "display_name": "Python 3",
   "language": "python",
   "name": "python3"
  },
  "language_info": {
   "codemirror_mode": {
    "name": "ipython",
    "version": 3
   },
   "file_extension": ".py",
   "mimetype": "text/x-python",
   "name": "python",
   "nbconvert_exporter": "python",
   "pygments_lexer": "ipython3",
   "version": "3.7.6"
  }
 },
 "nbformat": 4,
 "nbformat_minor": 4
}
